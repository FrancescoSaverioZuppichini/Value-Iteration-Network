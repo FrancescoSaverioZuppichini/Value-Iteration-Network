{
 "cells": [
  {
   "cell_type": "markdown",
   "metadata": {
    "slideshow": {
     "slide_type": "slide"
    }
   },
   "source": [
    "# Value Iteration Networks\n",
    "## Francesco Saverio Zuppichini\n",
    "\n",
    "*Authors: Aviv Tamar, Yi Wu, Garrett Thomas, Sergey Levine, and Pieter Abbeel*"
   ]
  },
  {
   "cell_type": "markdown",
   "metadata": {
    "slideshow": {
     "slide_type": "slide"
    }
   },
   "source": [
    "# Value Iteration Networks\n",
    "![title](https://raw.githubusercontent.com/FrancescoSaverioZuppichini/Value-Iteration-Network/master/resources/vin.png)\n",
    "\n",
    "Problem: *Planning* not able to generalise unseen domains \n",
    "\n",
    "Solution: A module able to **learn** to plan"
   ]
  },
  {
   "cell_type": "markdown",
   "metadata": {
    "slideshow": {
     "slide_type": "slide"
    }
   },
   "source": [
    "# Recap"
   ]
  },
  {
   "cell_type": "markdown",
   "metadata": {
    "slideshow": {
     "slide_type": "subslide"
    }
   },
   "source": [
    "### Markov Decision Process\n",
    "\n",
    "is a 5-tuple $(S, A, P, R, \\gamma)$ where:\n",
    "\n",
    "$$\n",
    "\\begin{equation}\n",
    "        \\begin{array}{l}\n",
    "         \\text{finite set of states:} \\\\\n",
    "                s \\in S \\\\\n",
    "         \\text{finite set of actions:} \\\\\n",
    "        a \\in A \\\\\n",
    "                 \\text{state transition probabilities:} \\\\\n",
    "        p(s' | s, a) = Pr \\{S_{t + 1} = s' | S_t = s, A_t = a \\} \\\\\n",
    "                \\text{expected reward for state-action-nexstate:}\\\\\n",
    "        r(s',s, a) = \\mathbb{E}[ R_{t + 1} | S_{t + 1} = s',  S_t = s, A_t = a ]  \\\\\n",
    "        \\end{array}\n",
    "\\end{equation}\n",
    "$$"
   ]
  },
  {
   "cell_type": "markdown",
   "metadata": {
    "slideshow": {
     "slide_type": "subslide"
    }
   },
   "source": [
    "### Reward\n",
    "\n",
    "$$G_t = \\sum_{k = 0}^H \\gamma^kr_{t + k + 1}$$"
   ]
  },
  {
   "cell_type": "markdown",
   "metadata": {
    "slideshow": {
     "slide_type": "subslide"
    }
   },
   "source": [
    "### Value Function\n",
    "\n",
    "*how good* is to be in a state\n",
    "\n",
    "$$\n",
    "V_{\\pi}(s) = \\mathbb{E}[G_t | S_t = s]\n",
    "$$"
   ]
  },
  {
   "cell_type": "markdown",
   "metadata": {
    "slideshow": {
     "slide_type": "fragment"
    }
   },
   "source": [
    "#### Bellman Equation\n",
    "\n",
    "**recursive** relation\n",
    "\n",
    "$$\\begin{equation}\n",
    "\\begin{array}{l l}\n",
    "V_{\\pi}(s) & = \\mathbb{E}_{\\pi}\\begin{bmatrix}G_t | S_t = s\\end{bmatrix} \\\\\n",
    "\\\\\n",
    "& =  \\mathbb{E}_{\\pi}\\begin{bmatrix}\\sum\\limits_{k = 0}^{\\infty} \\gamma^kR_{t + k + 1} | S_t = s \\end{bmatrix} \\\\\n",
    "\\\\\n",
    "...\n",
    "\\\\\n",
    "& = \\sum\\limits_{a} \\pi(a | s) \\sum\\limits_{s'}\\sum\\limits_{r} p(s', r | s, a)\\begin{bmatrix} r + \\gamma V_{\\pi}(s')\n",
    "\\end{bmatrix}\n",
    "\\end{array}\n",
    "\\label{eq: value_bellman}\n",
    "\\end{equation}$$"
   ]
  },
  {
   "cell_type": "markdown",
   "metadata": {
    "slideshow": {
     "slide_type": "fragment"
    }
   },
   "source": [
    "Thus we can **PLAN**"
   ]
  },
  {
   "cell_type": "markdown",
   "metadata": {
    "slideshow": {
     "slide_type": "slide"
    }
   },
   "source": [
    "# Value Iteration\n",
    "\n",
    "![alt](https://raw.githubusercontent.com/FrancescoSaverioZuppichini/Value-Iteration-Network/master/resources/value_iteration.jpg)\n",
    "\n",
    "Does not *generalise*\n"
   ]
  },
  {
   "cell_type": "markdown",
   "metadata": {
    "slideshow": {
     "slide_type": "slide"
    }
   },
   "source": [
    "If we think about \n",
    "\n",
    "$$\n",
    "V_{n + 1}(s) = max_aQ_n(s,a) \\quad \\forall s\n",
    "$$\n",
    "\n",
    "where\n",
    "\n",
    "$$\n",
    "Q_n(s,a) = R(s,a) + \\gamma \\sum_{s'}P(s'|s,a)V_n(s')\n",
    "$$\n",
    "\n",
    "It is very similar to a **convolutional** and **max pooling** operation\n",
    "\n",
    "\n",
    "*paper notation*\n"
   ]
  },
  {
   "cell_type": "markdown",
   "metadata": {
    "slideshow": {
     "slide_type": "slide"
    }
   },
   "source": [
    "If we think about \n",
    "\n",
    "$$\n",
    "V_{n + 1}(s) = \\underbrace{max_a}_{\\text Max Pooling}Q_n(s,a) \\quad \\forall s\n",
    "$$\n",
    "\n",
    "where\n",
    "\n",
    "$$\n",
    "Q_n(s,a) = R(s,a) + \\underbrace{\\gamma \\sum_{s'}P(s'|s,a)}_{\\text{Convolution}}V_n(s')\n",
    "$$\n"
   ]
  },
  {
   "cell_type": "markdown",
   "metadata": {
    "slideshow": {
     "slide_type": "fragment"
    }
   },
   "source": [
    "Convolution\n",
    "\n",
    "\n",
    "$$\n",
    "h_{l', i', j'} = \\sigma(\\sum_{l,i,j} W^{l'}_{l,i,j}X_{l, i'-i, j' - j})\n",
    "$$\n",
    "\n",
    "Max Pooling\n",
    "\n",
    "$$\n",
    "h_{l, i, j} ^{\\text{maxpool}} - max_{l', j' \\in N(i,j)} h_{l,i',j'}\n",
    "$$"
   ]
  },
  {
   "cell_type": "markdown",
   "metadata": {
    "slideshow": {
     "slide_type": "subslide"
    }
   },
   "source": [
    "Thus we can represent Value Iteration with a **CNN**"
   ]
  },
  {
   "cell_type": "markdown",
   "metadata": {
    "slideshow": {
     "slide_type": "slide"
    }
   },
   "source": [
    "# Value Iteration Network\n",
    "\n",
    "![alt](https://raw.githubusercontent.com/FrancescoSaverioZuppichini/Value-Iteration-Network/master/resources/3.jpg)\n",
    "\n",
    "Assume there is a un uknowm $\\bar M$, solve it can add info to $\\pi$ policy of $M$\n",
    "\n",
    "\n",
    "We want to learn $ \\bar R = f_r(\\phi(s)) $ and $ \\bar P = f_P(\\phi(s)) $ "
   ]
  },
  {
   "cell_type": "markdown",
   "metadata": {
    "slideshow": {
     "slide_type": "fragment"
    }
   },
   "source": [
    "$\\bar R$ maps an image of the domain to a high reward at the goal and negative near an obstacle\n",
    "\n",
    "$\\bar P$ encodes deterministic movement in the grid-world that do not depend on the observations"
   ]
  },
  {
   "cell_type": "markdown",
   "metadata": {
    "slideshow": {
     "slide_type": "slide"
    }
   },
   "source": [
    "Notice that\n",
    "\n",
    "$$ \\bar \\pi^* = argmax_{\\bar a} \\bar R (\\bar s, \\bar a) + \\gamma  \\sum_{\\bar s'} \\bar P (\\bar s'| \\bar s, \\bar a) \\bar V^*(\\bar s') $$\n",
    "\n",
    "**local connectivity** the states with $\\bar P (\\bar s'| \\bar s, \\bar a)$ small subset of $\\bar S$. **Attention**\n",
    "\n",
    "![alt](https://raw.githubusercontent.com/FrancescoSaverioZuppichini/Value-Iteration-Network/master/resources/attention.jpg)\n"
   ]
  },
  {
   "cell_type": "markdown",
   "metadata": {
    "slideshow": {
     "slide_type": "slide"
    }
   },
   "source": [
    "# Value Iteration Module\n",
    "![alt](https://raw.githubusercontent.com/FrancescoSaverioZuppichini/Value-Iteration-Network/master/resources/4.jpg)\n",
    "\n",
    "$$\n",
    "Q_{\\bar a, i', j'} = \\sum_{l, i, j} W^{\\bar a}_{l,i,j} \\bar R_{l, i' - i, j' - j}\n",
    "$$"
   ]
  },
  {
   "cell_type": "markdown",
   "metadata": {
    "slideshow": {
     "slide_type": "subslide"
    }
   },
   "source": [
    "![alt](https://raw.githubusercontent.com/FrancescoSaverioZuppichini/Value-Iteration-Network/master/resources/1.jpg)\n",
    "\n",
    "each channel in $\\bar Q$ correspond to $\\bar Q(\\bar s,\\bar a)$ for a particular $\\bar a$\n",
    "\n",
    "new $\\bar V$ stacked to $\\bar R$ and feed again"
   ]
  },
  {
   "cell_type": "markdown",
   "metadata": {
    "slideshow": {
     "slide_type": "slide"
    }
   },
   "source": [
    "# Experiments"
   ]
  },
  {
   "cell_type": "markdown",
   "metadata": {
    "slideshow": {
     "slide_type": "slide"
    }
   },
   "source": [
    "## Grid World\n",
    "\n",
    "![alt](https://raw.githubusercontent.com/FrancescoSaverioZuppichini/Value-Iteration-Network/master/resources/6.jpg)\n",
    "\n",
    "\n",
    "![alt](https://raw.githubusercontent.com/FrancescoSaverioZuppichini/Value-Iteration-Network/master/resources/7.jpg)\n",
    "\n",
    "\n",
    "![alt](https://raw.githubusercontent.com/FrancescoSaverioZuppichini/Value-Iteration-Network/master/resources/vis.png)\n"
   ]
  },
  {
   "cell_type": "markdown",
   "metadata": {
    "slideshow": {
     "slide_type": "subslide"
    }
   },
   "source": [
    "## Architecture\n",
    "\n",
    "![alt](https://raw.githubusercontent.com/FrancescoSaverioZuppichini/Value-Iteration-Network/master/resources/14.png)"
   ]
  },
  {
   "cell_type": "markdown",
   "metadata": {
    "slideshow": {
     "slide_type": "slide"
    }
   },
   "source": [
    "# Mars Rover Navigation\n",
    "\n",
    "![alt](https://raw.githubusercontent.com/FrancescoSaverioZuppichini/Value-Iteration-Network/master/resources/12.jpg)\n",
    "\n",
    "\n",
    "VIN learn to plan *from natural image input* \n",
    "\n",
    "elevation/obstacles data not a part of the input\n",
    "\n",
    "$84.8%$ success rate"
   ]
  },
  {
   "cell_type": "markdown",
   "metadata": {
    "slideshow": {
     "slide_type": "slide"
    }
   },
   "source": [
    "# Continuous Control\n",
    "![alt](https://raw.githubusercontent.com/FrancescoSaverioZuppichini/Value-Iteration-Network/master/resources/10.jpg)\n",
    "\n",
    "\n",
    "Continuous states and continuous actions\n",
    "\n",
    "Grid size 28x28\n",
    "\n",
    "VIN train on coarse grid representation"
   ]
  },
  {
   "cell_type": "markdown",
   "metadata": {
    "slideshow": {
     "slide_type": "slide"
    }
   },
   "source": [
    "![alt](https://raw.githubusercontent.com/FrancescoSaverioZuppichini/Value-Iteration-Network/master/resources/h.png)\n",
    "![alt](https://raw.githubusercontent.com/FrancescoSaverioZuppichini/Value-Iteration-Network/master/resources/r.png)\n"
   ]
  },
  {
   "cell_type": "markdown",
   "metadata": {
    "slideshow": {
     "slide_type": "slide"
    }
   },
   "source": [
    "# Conclusion\n",
    "\n",
    "scalable architecture \n",
    "\n",
    "It is able to learn!\n",
    "\n",
    "easy to implement"
   ]
  },
  {
   "cell_type": "markdown",
   "metadata": {
    "slideshow": {
     "slide_type": "slide"
    }
   },
   "source": [
    "#### Does it work?"
   ]
  },
  {
   "cell_type": "code",
   "execution_count": 75,
   "metadata": {
    "slideshow": {
     "slide_type": "subslide"
    }
   },
   "outputs": [],
   "source": [
    "import torch\n",
    "\n",
    "import matplotlib.pyplot as plt\n",
    "\n",
    "from torch.utils.data import DataLoader\n",
    "\n",
    "from datasets import GridWorldDataset\n",
    "from config import *\n",
    "from utils import *\n",
    "\n",
    "%matplotlib notebook \n",
    "plt.rcParams['figure.figsize'] = (14,4)"
   ]
  },
  {
   "cell_type": "code",
   "execution_count": 81,
   "metadata": {
    "slideshow": {
     "slide_type": "subslide"
    }
   },
   "outputs": [],
   "source": [
    "world = WORLD_28X28\n",
    "\n",
    "test_ds = GridWorldDataset(*world, train=False)"
   ]
  },
  {
   "cell_type": "code",
   "execution_count": 85,
   "metadata": {
    "scrolled": true,
    "slideshow": {
     "slide_type": "slide"
    }
   },
   "outputs": [
    {
     "data": {
      "application/javascript": [
       "/* Put everything inside the global mpl namespace */\n",
       "window.mpl = {};\n",
       "\n",
       "\n",
       "mpl.get_websocket_type = function() {\n",
       "    if (typeof(WebSocket) !== 'undefined') {\n",
       "        return WebSocket;\n",
       "    } else if (typeof(MozWebSocket) !== 'undefined') {\n",
       "        return MozWebSocket;\n",
       "    } else {\n",
       "        alert('Your browser does not have WebSocket support.' +\n",
       "              'Please try Chrome, Safari or Firefox ≥ 6. ' +\n",
       "              'Firefox 4 and 5 are also supported but you ' +\n",
       "              'have to enable WebSockets in about:config.');\n",
       "    };\n",
       "}\n",
       "\n",
       "mpl.figure = function(figure_id, websocket, ondownload, parent_element) {\n",
       "    this.id = figure_id;\n",
       "\n",
       "    this.ws = websocket;\n",
       "\n",
       "    this.supports_binary = (this.ws.binaryType != undefined);\n",
       "\n",
       "    if (!this.supports_binary) {\n",
       "        var warnings = document.getElementById(\"mpl-warnings\");\n",
       "        if (warnings) {\n",
       "            warnings.style.display = 'block';\n",
       "            warnings.textContent = (\n",
       "                \"This browser does not support binary websocket messages. \" +\n",
       "                    \"Performance may be slow.\");\n",
       "        }\n",
       "    }\n",
       "\n",
       "    this.imageObj = new Image();\n",
       "\n",
       "    this.context = undefined;\n",
       "    this.message = undefined;\n",
       "    this.canvas = undefined;\n",
       "    this.rubberband_canvas = undefined;\n",
       "    this.rubberband_context = undefined;\n",
       "    this.format_dropdown = undefined;\n",
       "\n",
       "    this.image_mode = 'full';\n",
       "\n",
       "    this.root = $('<div/>');\n",
       "    this._root_extra_style(this.root)\n",
       "    this.root.attr('style', 'display: inline-block');\n",
       "\n",
       "    $(parent_element).append(this.root);\n",
       "\n",
       "    this._init_header(this);\n",
       "    this._init_canvas(this);\n",
       "    this._init_toolbar(this);\n",
       "\n",
       "    var fig = this;\n",
       "\n",
       "    this.waiting = false;\n",
       "\n",
       "    this.ws.onopen =  function () {\n",
       "            fig.send_message(\"supports_binary\", {value: fig.supports_binary});\n",
       "            fig.send_message(\"send_image_mode\", {});\n",
       "            if (mpl.ratio != 1) {\n",
       "                fig.send_message(\"set_dpi_ratio\", {'dpi_ratio': mpl.ratio});\n",
       "            }\n",
       "            fig.send_message(\"refresh\", {});\n",
       "        }\n",
       "\n",
       "    this.imageObj.onload = function() {\n",
       "            if (fig.image_mode == 'full') {\n",
       "                // Full images could contain transparency (where diff images\n",
       "                // almost always do), so we need to clear the canvas so that\n",
       "                // there is no ghosting.\n",
       "                fig.context.clearRect(0, 0, fig.canvas.width, fig.canvas.height);\n",
       "            }\n",
       "            fig.context.drawImage(fig.imageObj, 0, 0);\n",
       "        };\n",
       "\n",
       "    this.imageObj.onunload = function() {\n",
       "        this.ws.close();\n",
       "    }\n",
       "\n",
       "    this.ws.onmessage = this._make_on_message_function(this);\n",
       "\n",
       "    this.ondownload = ondownload;\n",
       "}\n",
       "\n",
       "mpl.figure.prototype._init_header = function() {\n",
       "    var titlebar = $(\n",
       "        '<div class=\"ui-dialog-titlebar ui-widget-header ui-corner-all ' +\n",
       "        'ui-helper-clearfix\"/>');\n",
       "    var titletext = $(\n",
       "        '<div class=\"ui-dialog-title\" style=\"width: 100%; ' +\n",
       "        'text-align: center; padding: 3px;\"/>');\n",
       "    titlebar.append(titletext)\n",
       "    this.root.append(titlebar);\n",
       "    this.header = titletext[0];\n",
       "}\n",
       "\n",
       "\n",
       "\n",
       "mpl.figure.prototype._canvas_extra_style = function(canvas_div) {\n",
       "\n",
       "}\n",
       "\n",
       "\n",
       "mpl.figure.prototype._root_extra_style = function(canvas_div) {\n",
       "\n",
       "}\n",
       "\n",
       "mpl.figure.prototype._init_canvas = function() {\n",
       "    var fig = this;\n",
       "\n",
       "    var canvas_div = $('<div/>');\n",
       "\n",
       "    canvas_div.attr('style', 'position: relative; clear: both; outline: 0');\n",
       "\n",
       "    function canvas_keyboard_event(event) {\n",
       "        return fig.key_event(event, event['data']);\n",
       "    }\n",
       "\n",
       "    canvas_div.keydown('key_press', canvas_keyboard_event);\n",
       "    canvas_div.keyup('key_release', canvas_keyboard_event);\n",
       "    this.canvas_div = canvas_div\n",
       "    this._canvas_extra_style(canvas_div)\n",
       "    this.root.append(canvas_div);\n",
       "\n",
       "    var canvas = $('<canvas/>');\n",
       "    canvas.addClass('mpl-canvas');\n",
       "    canvas.attr('style', \"left: 0; top: 0; z-index: 0; outline: 0\")\n",
       "\n",
       "    this.canvas = canvas[0];\n",
       "    this.context = canvas[0].getContext(\"2d\");\n",
       "\n",
       "    var backingStore = this.context.backingStorePixelRatio ||\n",
       "\tthis.context.webkitBackingStorePixelRatio ||\n",
       "\tthis.context.mozBackingStorePixelRatio ||\n",
       "\tthis.context.msBackingStorePixelRatio ||\n",
       "\tthis.context.oBackingStorePixelRatio ||\n",
       "\tthis.context.backingStorePixelRatio || 1;\n",
       "\n",
       "    mpl.ratio = (window.devicePixelRatio || 1) / backingStore;\n",
       "\n",
       "    var rubberband = $('<canvas/>');\n",
       "    rubberband.attr('style', \"position: absolute; left: 0; top: 0; z-index: 1;\")\n",
       "\n",
       "    var pass_mouse_events = true;\n",
       "\n",
       "    canvas_div.resizable({\n",
       "        start: function(event, ui) {\n",
       "            pass_mouse_events = false;\n",
       "        },\n",
       "        resize: function(event, ui) {\n",
       "            fig.request_resize(ui.size.width, ui.size.height);\n",
       "        },\n",
       "        stop: function(event, ui) {\n",
       "            pass_mouse_events = true;\n",
       "            fig.request_resize(ui.size.width, ui.size.height);\n",
       "        },\n",
       "    });\n",
       "\n",
       "    function mouse_event_fn(event) {\n",
       "        if (pass_mouse_events)\n",
       "            return fig.mouse_event(event, event['data']);\n",
       "    }\n",
       "\n",
       "    rubberband.mousedown('button_press', mouse_event_fn);\n",
       "    rubberband.mouseup('button_release', mouse_event_fn);\n",
       "    // Throttle sequential mouse events to 1 every 20ms.\n",
       "    rubberband.mousemove('motion_notify', mouse_event_fn);\n",
       "\n",
       "    rubberband.mouseenter('figure_enter', mouse_event_fn);\n",
       "    rubberband.mouseleave('figure_leave', mouse_event_fn);\n",
       "\n",
       "    canvas_div.on(\"wheel\", function (event) {\n",
       "        event = event.originalEvent;\n",
       "        event['data'] = 'scroll'\n",
       "        if (event.deltaY < 0) {\n",
       "            event.step = 1;\n",
       "        } else {\n",
       "            event.step = -1;\n",
       "        }\n",
       "        mouse_event_fn(event);\n",
       "    });\n",
       "\n",
       "    canvas_div.append(canvas);\n",
       "    canvas_div.append(rubberband);\n",
       "\n",
       "    this.rubberband = rubberband;\n",
       "    this.rubberband_canvas = rubberband[0];\n",
       "    this.rubberband_context = rubberband[0].getContext(\"2d\");\n",
       "    this.rubberband_context.strokeStyle = \"#000000\";\n",
       "\n",
       "    this._resize_canvas = function(width, height) {\n",
       "        // Keep the size of the canvas, canvas container, and rubber band\n",
       "        // canvas in synch.\n",
       "        canvas_div.css('width', width)\n",
       "        canvas_div.css('height', height)\n",
       "\n",
       "        canvas.attr('width', width * mpl.ratio);\n",
       "        canvas.attr('height', height * mpl.ratio);\n",
       "        canvas.attr('style', 'width: ' + width + 'px; height: ' + height + 'px;');\n",
       "\n",
       "        rubberband.attr('width', width);\n",
       "        rubberband.attr('height', height);\n",
       "    }\n",
       "\n",
       "    // Set the figure to an initial 600x600px, this will subsequently be updated\n",
       "    // upon first draw.\n",
       "    this._resize_canvas(600, 600);\n",
       "\n",
       "    // Disable right mouse context menu.\n",
       "    $(this.rubberband_canvas).bind(\"contextmenu\",function(e){\n",
       "        return false;\n",
       "    });\n",
       "\n",
       "    function set_focus () {\n",
       "        canvas.focus();\n",
       "        canvas_div.focus();\n",
       "    }\n",
       "\n",
       "    window.setTimeout(set_focus, 100);\n",
       "}\n",
       "\n",
       "mpl.figure.prototype._init_toolbar = function() {\n",
       "    var fig = this;\n",
       "\n",
       "    var nav_element = $('<div/>')\n",
       "    nav_element.attr('style', 'width: 100%');\n",
       "    this.root.append(nav_element);\n",
       "\n",
       "    // Define a callback function for later on.\n",
       "    function toolbar_event(event) {\n",
       "        return fig.toolbar_button_onclick(event['data']);\n",
       "    }\n",
       "    function toolbar_mouse_event(event) {\n",
       "        return fig.toolbar_button_onmouseover(event['data']);\n",
       "    }\n",
       "\n",
       "    for(var toolbar_ind in mpl.toolbar_items) {\n",
       "        var name = mpl.toolbar_items[toolbar_ind][0];\n",
       "        var tooltip = mpl.toolbar_items[toolbar_ind][1];\n",
       "        var image = mpl.toolbar_items[toolbar_ind][2];\n",
       "        var method_name = mpl.toolbar_items[toolbar_ind][3];\n",
       "\n",
       "        if (!name) {\n",
       "            // put a spacer in here.\n",
       "            continue;\n",
       "        }\n",
       "        var button = $('<button/>');\n",
       "        button.addClass('ui-button ui-widget ui-state-default ui-corner-all ' +\n",
       "                        'ui-button-icon-only');\n",
       "        button.attr('role', 'button');\n",
       "        button.attr('aria-disabled', 'false');\n",
       "        button.click(method_name, toolbar_event);\n",
       "        button.mouseover(tooltip, toolbar_mouse_event);\n",
       "\n",
       "        var icon_img = $('<span/>');\n",
       "        icon_img.addClass('ui-button-icon-primary ui-icon');\n",
       "        icon_img.addClass(image);\n",
       "        icon_img.addClass('ui-corner-all');\n",
       "\n",
       "        var tooltip_span = $('<span/>');\n",
       "        tooltip_span.addClass('ui-button-text');\n",
       "        tooltip_span.html(tooltip);\n",
       "\n",
       "        button.append(icon_img);\n",
       "        button.append(tooltip_span);\n",
       "\n",
       "        nav_element.append(button);\n",
       "    }\n",
       "\n",
       "    var fmt_picker_span = $('<span/>');\n",
       "\n",
       "    var fmt_picker = $('<select/>');\n",
       "    fmt_picker.addClass('mpl-toolbar-option ui-widget ui-widget-content');\n",
       "    fmt_picker_span.append(fmt_picker);\n",
       "    nav_element.append(fmt_picker_span);\n",
       "    this.format_dropdown = fmt_picker[0];\n",
       "\n",
       "    for (var ind in mpl.extensions) {\n",
       "        var fmt = mpl.extensions[ind];\n",
       "        var option = $(\n",
       "            '<option/>', {selected: fmt === mpl.default_extension}).html(fmt);\n",
       "        fmt_picker.append(option)\n",
       "    }\n",
       "\n",
       "    // Add hover states to the ui-buttons\n",
       "    $( \".ui-button\" ).hover(\n",
       "        function() { $(this).addClass(\"ui-state-hover\");},\n",
       "        function() { $(this).removeClass(\"ui-state-hover\");}\n",
       "    );\n",
       "\n",
       "    var status_bar = $('<span class=\"mpl-message\"/>');\n",
       "    nav_element.append(status_bar);\n",
       "    this.message = status_bar[0];\n",
       "}\n",
       "\n",
       "mpl.figure.prototype.request_resize = function(x_pixels, y_pixels) {\n",
       "    // Request matplotlib to resize the figure. Matplotlib will then trigger a resize in the client,\n",
       "    // which will in turn request a refresh of the image.\n",
       "    this.send_message('resize', {'width': x_pixels, 'height': y_pixels});\n",
       "}\n",
       "\n",
       "mpl.figure.prototype.send_message = function(type, properties) {\n",
       "    properties['type'] = type;\n",
       "    properties['figure_id'] = this.id;\n",
       "    this.ws.send(JSON.stringify(properties));\n",
       "}\n",
       "\n",
       "mpl.figure.prototype.send_draw_message = function() {\n",
       "    if (!this.waiting) {\n",
       "        this.waiting = true;\n",
       "        this.ws.send(JSON.stringify({type: \"draw\", figure_id: this.id}));\n",
       "    }\n",
       "}\n",
       "\n",
       "\n",
       "mpl.figure.prototype.handle_save = function(fig, msg) {\n",
       "    var format_dropdown = fig.format_dropdown;\n",
       "    var format = format_dropdown.options[format_dropdown.selectedIndex].value;\n",
       "    fig.ondownload(fig, format);\n",
       "}\n",
       "\n",
       "\n",
       "mpl.figure.prototype.handle_resize = function(fig, msg) {\n",
       "    var size = msg['size'];\n",
       "    if (size[0] != fig.canvas.width || size[1] != fig.canvas.height) {\n",
       "        fig._resize_canvas(size[0], size[1]);\n",
       "        fig.send_message(\"refresh\", {});\n",
       "    };\n",
       "}\n",
       "\n",
       "mpl.figure.prototype.handle_rubberband = function(fig, msg) {\n",
       "    var x0 = msg['x0'] / mpl.ratio;\n",
       "    var y0 = (fig.canvas.height - msg['y0']) / mpl.ratio;\n",
       "    var x1 = msg['x1'] / mpl.ratio;\n",
       "    var y1 = (fig.canvas.height - msg['y1']) / mpl.ratio;\n",
       "    x0 = Math.floor(x0) + 0.5;\n",
       "    y0 = Math.floor(y0) + 0.5;\n",
       "    x1 = Math.floor(x1) + 0.5;\n",
       "    y1 = Math.floor(y1) + 0.5;\n",
       "    var min_x = Math.min(x0, x1);\n",
       "    var min_y = Math.min(y0, y1);\n",
       "    var width = Math.abs(x1 - x0);\n",
       "    var height = Math.abs(y1 - y0);\n",
       "\n",
       "    fig.rubberband_context.clearRect(\n",
       "        0, 0, fig.canvas.width, fig.canvas.height);\n",
       "\n",
       "    fig.rubberband_context.strokeRect(min_x, min_y, width, height);\n",
       "}\n",
       "\n",
       "mpl.figure.prototype.handle_figure_label = function(fig, msg) {\n",
       "    // Updates the figure title.\n",
       "    fig.header.textContent = msg['label'];\n",
       "}\n",
       "\n",
       "mpl.figure.prototype.handle_cursor = function(fig, msg) {\n",
       "    var cursor = msg['cursor'];\n",
       "    switch(cursor)\n",
       "    {\n",
       "    case 0:\n",
       "        cursor = 'pointer';\n",
       "        break;\n",
       "    case 1:\n",
       "        cursor = 'default';\n",
       "        break;\n",
       "    case 2:\n",
       "        cursor = 'crosshair';\n",
       "        break;\n",
       "    case 3:\n",
       "        cursor = 'move';\n",
       "        break;\n",
       "    }\n",
       "    fig.rubberband_canvas.style.cursor = cursor;\n",
       "}\n",
       "\n",
       "mpl.figure.prototype.handle_message = function(fig, msg) {\n",
       "    fig.message.textContent = msg['message'];\n",
       "}\n",
       "\n",
       "mpl.figure.prototype.handle_draw = function(fig, msg) {\n",
       "    // Request the server to send over a new figure.\n",
       "    fig.send_draw_message();\n",
       "}\n",
       "\n",
       "mpl.figure.prototype.handle_image_mode = function(fig, msg) {\n",
       "    fig.image_mode = msg['mode'];\n",
       "}\n",
       "\n",
       "mpl.figure.prototype.updated_canvas_event = function() {\n",
       "    // Called whenever the canvas gets updated.\n",
       "    this.send_message(\"ack\", {});\n",
       "}\n",
       "\n",
       "// A function to construct a web socket function for onmessage handling.\n",
       "// Called in the figure constructor.\n",
       "mpl.figure.prototype._make_on_message_function = function(fig) {\n",
       "    return function socket_on_message(evt) {\n",
       "        if (evt.data instanceof Blob) {\n",
       "            /* FIXME: We get \"Resource interpreted as Image but\n",
       "             * transferred with MIME type text/plain:\" errors on\n",
       "             * Chrome.  But how to set the MIME type?  It doesn't seem\n",
       "             * to be part of the websocket stream */\n",
       "            evt.data.type = \"image/png\";\n",
       "\n",
       "            /* Free the memory for the previous frames */\n",
       "            if (fig.imageObj.src) {\n",
       "                (window.URL || window.webkitURL).revokeObjectURL(\n",
       "                    fig.imageObj.src);\n",
       "            }\n",
       "\n",
       "            fig.imageObj.src = (window.URL || window.webkitURL).createObjectURL(\n",
       "                evt.data);\n",
       "            fig.updated_canvas_event();\n",
       "            fig.waiting = false;\n",
       "            return;\n",
       "        }\n",
       "        else if (typeof evt.data === 'string' && evt.data.slice(0, 21) == \"data:image/png;base64\") {\n",
       "            fig.imageObj.src = evt.data;\n",
       "            fig.updated_canvas_event();\n",
       "            fig.waiting = false;\n",
       "            return;\n",
       "        }\n",
       "\n",
       "        var msg = JSON.parse(evt.data);\n",
       "        var msg_type = msg['type'];\n",
       "\n",
       "        // Call the  \"handle_{type}\" callback, which takes\n",
       "        // the figure and JSON message as its only arguments.\n",
       "        try {\n",
       "            var callback = fig[\"handle_\" + msg_type];\n",
       "        } catch (e) {\n",
       "            console.log(\"No handler for the '\" + msg_type + \"' message type: \", msg);\n",
       "            return;\n",
       "        }\n",
       "\n",
       "        if (callback) {\n",
       "            try {\n",
       "                // console.log(\"Handling '\" + msg_type + \"' message: \", msg);\n",
       "                callback(fig, msg);\n",
       "            } catch (e) {\n",
       "                console.log(\"Exception inside the 'handler_\" + msg_type + \"' callback:\", e, e.stack, msg);\n",
       "            }\n",
       "        }\n",
       "    };\n",
       "}\n",
       "\n",
       "// from http://stackoverflow.com/questions/1114465/getting-mouse-location-in-canvas\n",
       "mpl.findpos = function(e) {\n",
       "    //this section is from http://www.quirksmode.org/js/events_properties.html\n",
       "    var targ;\n",
       "    if (!e)\n",
       "        e = window.event;\n",
       "    if (e.target)\n",
       "        targ = e.target;\n",
       "    else if (e.srcElement)\n",
       "        targ = e.srcElement;\n",
       "    if (targ.nodeType == 3) // defeat Safari bug\n",
       "        targ = targ.parentNode;\n",
       "\n",
       "    // jQuery normalizes the pageX and pageY\n",
       "    // pageX,Y are the mouse positions relative to the document\n",
       "    // offset() returns the position of the element relative to the document\n",
       "    var x = e.pageX - $(targ).offset().left;\n",
       "    var y = e.pageY - $(targ).offset().top;\n",
       "\n",
       "    return {\"x\": x, \"y\": y};\n",
       "};\n",
       "\n",
       "/*\n",
       " * return a copy of an object with only non-object keys\n",
       " * we need this to avoid circular references\n",
       " * http://stackoverflow.com/a/24161582/3208463\n",
       " */\n",
       "function simpleKeys (original) {\n",
       "  return Object.keys(original).reduce(function (obj, key) {\n",
       "    if (typeof original[key] !== 'object')\n",
       "        obj[key] = original[key]\n",
       "    return obj;\n",
       "  }, {});\n",
       "}\n",
       "\n",
       "mpl.figure.prototype.mouse_event = function(event, name) {\n",
       "    var canvas_pos = mpl.findpos(event)\n",
       "\n",
       "    if (name === 'button_press')\n",
       "    {\n",
       "        this.canvas.focus();\n",
       "        this.canvas_div.focus();\n",
       "    }\n",
       "\n",
       "    var x = canvas_pos.x * mpl.ratio;\n",
       "    var y = canvas_pos.y * mpl.ratio;\n",
       "\n",
       "    this.send_message(name, {x: x, y: y, button: event.button,\n",
       "                             step: event.step,\n",
       "                             guiEvent: simpleKeys(event)});\n",
       "\n",
       "    /* This prevents the web browser from automatically changing to\n",
       "     * the text insertion cursor when the button is pressed.  We want\n",
       "     * to control all of the cursor setting manually through the\n",
       "     * 'cursor' event from matplotlib */\n",
       "    event.preventDefault();\n",
       "    return false;\n",
       "}\n",
       "\n",
       "mpl.figure.prototype._key_event_extra = function(event, name) {\n",
       "    // Handle any extra behaviour associated with a key event\n",
       "}\n",
       "\n",
       "mpl.figure.prototype.key_event = function(event, name) {\n",
       "\n",
       "    // Prevent repeat events\n",
       "    if (name == 'key_press')\n",
       "    {\n",
       "        if (event.which === this._key)\n",
       "            return;\n",
       "        else\n",
       "            this._key = event.which;\n",
       "    }\n",
       "    if (name == 'key_release')\n",
       "        this._key = null;\n",
       "\n",
       "    var value = '';\n",
       "    if (event.ctrlKey && event.which != 17)\n",
       "        value += \"ctrl+\";\n",
       "    if (event.altKey && event.which != 18)\n",
       "        value += \"alt+\";\n",
       "    if (event.shiftKey && event.which != 16)\n",
       "        value += \"shift+\";\n",
       "\n",
       "    value += 'k';\n",
       "    value += event.which.toString();\n",
       "\n",
       "    this._key_event_extra(event, name);\n",
       "\n",
       "    this.send_message(name, {key: value,\n",
       "                             guiEvent: simpleKeys(event)});\n",
       "    return false;\n",
       "}\n",
       "\n",
       "mpl.figure.prototype.toolbar_button_onclick = function(name) {\n",
       "    if (name == 'download') {\n",
       "        this.handle_save(this, null);\n",
       "    } else {\n",
       "        this.send_message(\"toolbar_button\", {name: name});\n",
       "    }\n",
       "};\n",
       "\n",
       "mpl.figure.prototype.toolbar_button_onmouseover = function(tooltip) {\n",
       "    this.message.textContent = tooltip;\n",
       "};\n",
       "mpl.toolbar_items = [[\"Home\", \"Reset original view\", \"fa fa-home icon-home\", \"home\"], [\"Back\", \"Back to  previous view\", \"fa fa-arrow-left icon-arrow-left\", \"back\"], [\"Forward\", \"Forward to next view\", \"fa fa-arrow-right icon-arrow-right\", \"forward\"], [\"\", \"\", \"\", \"\"], [\"Pan\", \"Pan axes with left mouse, zoom with right\", \"fa fa-arrows icon-move\", \"pan\"], [\"Zoom\", \"Zoom to rectangle\", \"fa fa-square-o icon-check-empty\", \"zoom\"], [\"\", \"\", \"\", \"\"], [\"Download\", \"Download plot\", \"fa fa-floppy-o icon-save\", \"download\"]];\n",
       "\n",
       "mpl.extensions = [\"eps\", \"jpeg\", \"pdf\", \"png\", \"ps\", \"raw\", \"svg\", \"tif\"];\n",
       "\n",
       "mpl.default_extension = \"png\";var comm_websocket_adapter = function(comm) {\n",
       "    // Create a \"websocket\"-like object which calls the given IPython comm\n",
       "    // object with the appropriate methods. Currently this is a non binary\n",
       "    // socket, so there is still some room for performance tuning.\n",
       "    var ws = {};\n",
       "\n",
       "    ws.close = function() {\n",
       "        comm.close()\n",
       "    };\n",
       "    ws.send = function(m) {\n",
       "        //console.log('sending', m);\n",
       "        comm.send(m);\n",
       "    };\n",
       "    // Register the callback with on_msg.\n",
       "    comm.on_msg(function(msg) {\n",
       "        //console.log('receiving', msg['content']['data'], msg);\n",
       "        // Pass the mpl event to the overriden (by mpl) onmessage function.\n",
       "        ws.onmessage(msg['content']['data'])\n",
       "    });\n",
       "    return ws;\n",
       "}\n",
       "\n",
       "mpl.mpl_figure_comm = function(comm, msg) {\n",
       "    // This is the function which gets called when the mpl process\n",
       "    // starts-up an IPython Comm through the \"matplotlib\" channel.\n",
       "\n",
       "    var id = msg.content.data.id;\n",
       "    // Get hold of the div created by the display call when the Comm\n",
       "    // socket was opened in Python.\n",
       "    var element = $(\"#\" + id);\n",
       "    var ws_proxy = comm_websocket_adapter(comm)\n",
       "\n",
       "    function ondownload(figure, format) {\n",
       "        window.open(figure.imageObj.src);\n",
       "    }\n",
       "\n",
       "    var fig = new mpl.figure(id, ws_proxy,\n",
       "                           ondownload,\n",
       "                           element.get(0));\n",
       "\n",
       "    // Call onopen now - mpl needs it, as it is assuming we've passed it a real\n",
       "    // web socket which is closed, not our websocket->open comm proxy.\n",
       "    ws_proxy.onopen();\n",
       "\n",
       "    fig.parent_element = element.get(0);\n",
       "    fig.cell_info = mpl.find_output_cell(\"<div id='\" + id + \"'></div>\");\n",
       "    if (!fig.cell_info) {\n",
       "        console.error(\"Failed to find cell for figure\", id, fig);\n",
       "        return;\n",
       "    }\n",
       "\n",
       "    var output_index = fig.cell_info[2]\n",
       "    var cell = fig.cell_info[0];\n",
       "\n",
       "};\n",
       "\n",
       "mpl.figure.prototype.handle_close = function(fig, msg) {\n",
       "    var width = fig.canvas.width/mpl.ratio\n",
       "    fig.root.unbind('remove')\n",
       "\n",
       "    // Update the output cell to use the data from the current canvas.\n",
       "    fig.push_to_output();\n",
       "    var dataURL = fig.canvas.toDataURL();\n",
       "    // Re-enable the keyboard manager in IPython - without this line, in FF,\n",
       "    // the notebook keyboard shortcuts fail.\n",
       "    IPython.keyboard_manager.enable()\n",
       "    $(fig.parent_element).html('<img src=\"' + dataURL + '\" width=\"' + width + '\">');\n",
       "    fig.close_ws(fig, msg);\n",
       "}\n",
       "\n",
       "mpl.figure.prototype.close_ws = function(fig, msg){\n",
       "    fig.send_message('closing', msg);\n",
       "    // fig.ws.close()\n",
       "}\n",
       "\n",
       "mpl.figure.prototype.push_to_output = function(remove_interactive) {\n",
       "    // Turn the data on the canvas into data in the output cell.\n",
       "    var width = this.canvas.width/mpl.ratio\n",
       "    var dataURL = this.canvas.toDataURL();\n",
       "    this.cell_info[1]['text/html'] = '<img src=\"' + dataURL + '\" width=\"' + width + '\">';\n",
       "}\n",
       "\n",
       "mpl.figure.prototype.updated_canvas_event = function() {\n",
       "    // Tell IPython that the notebook contents must change.\n",
       "    IPython.notebook.set_dirty(true);\n",
       "    this.send_message(\"ack\", {});\n",
       "    var fig = this;\n",
       "    // Wait a second, then push the new image to the DOM so\n",
       "    // that it is saved nicely (might be nice to debounce this).\n",
       "    setTimeout(function () { fig.push_to_output() }, 1000);\n",
       "}\n",
       "\n",
       "mpl.figure.prototype._init_toolbar = function() {\n",
       "    var fig = this;\n",
       "\n",
       "    var nav_element = $('<div/>')\n",
       "    nav_element.attr('style', 'width: 100%');\n",
       "    this.root.append(nav_element);\n",
       "\n",
       "    // Define a callback function for later on.\n",
       "    function toolbar_event(event) {\n",
       "        return fig.toolbar_button_onclick(event['data']);\n",
       "    }\n",
       "    function toolbar_mouse_event(event) {\n",
       "        return fig.toolbar_button_onmouseover(event['data']);\n",
       "    }\n",
       "\n",
       "    for(var toolbar_ind in mpl.toolbar_items){\n",
       "        var name = mpl.toolbar_items[toolbar_ind][0];\n",
       "        var tooltip = mpl.toolbar_items[toolbar_ind][1];\n",
       "        var image = mpl.toolbar_items[toolbar_ind][2];\n",
       "        var method_name = mpl.toolbar_items[toolbar_ind][3];\n",
       "\n",
       "        if (!name) { continue; };\n",
       "\n",
       "        var button = $('<button class=\"btn btn-default\" href=\"#\" title=\"' + name + '\"><i class=\"fa ' + image + ' fa-lg\"></i></button>');\n",
       "        button.click(method_name, toolbar_event);\n",
       "        button.mouseover(tooltip, toolbar_mouse_event);\n",
       "        nav_element.append(button);\n",
       "    }\n",
       "\n",
       "    // Add the status bar.\n",
       "    var status_bar = $('<span class=\"mpl-message\" style=\"text-align:right; float: right;\"/>');\n",
       "    nav_element.append(status_bar);\n",
       "    this.message = status_bar[0];\n",
       "\n",
       "    // Add the close button to the window.\n",
       "    var buttongrp = $('<div class=\"btn-group inline pull-right\"></div>');\n",
       "    var button = $('<button class=\"btn btn-mini btn-primary\" href=\"#\" title=\"Stop Interaction\"><i class=\"fa fa-power-off icon-remove icon-large\"></i></button>');\n",
       "    button.click(function (evt) { fig.handle_close(fig, {}); } );\n",
       "    button.mouseover('Stop Interaction', toolbar_mouse_event);\n",
       "    buttongrp.append(button);\n",
       "    var titlebar = this.root.find($('.ui-dialog-titlebar'));\n",
       "    titlebar.prepend(buttongrp);\n",
       "}\n",
       "\n",
       "mpl.figure.prototype._root_extra_style = function(el){\n",
       "    var fig = this\n",
       "    el.on(\"remove\", function(){\n",
       "\tfig.close_ws(fig, {});\n",
       "    });\n",
       "}\n",
       "\n",
       "mpl.figure.prototype._canvas_extra_style = function(el){\n",
       "    // this is important to make the div 'focusable\n",
       "    el.attr('tabindex', 0)\n",
       "    // reach out to IPython and tell the keyboard manager to turn it's self\n",
       "    // off when our div gets focus\n",
       "\n",
       "    // location in version 3\n",
       "    if (IPython.notebook.keyboard_manager) {\n",
       "        IPython.notebook.keyboard_manager.register_events(el);\n",
       "    }\n",
       "    else {\n",
       "        // location in version 2\n",
       "        IPython.keyboard_manager.register_events(el);\n",
       "    }\n",
       "\n",
       "}\n",
       "\n",
       "mpl.figure.prototype._key_event_extra = function(event, name) {\n",
       "    var manager = IPython.notebook.keyboard_manager;\n",
       "    if (!manager)\n",
       "        manager = IPython.keyboard_manager;\n",
       "\n",
       "    // Check for shift+enter\n",
       "    if (event.shiftKey && event.which == 13) {\n",
       "        this.canvas_div.blur();\n",
       "        // select the cell after this one\n",
       "        var index = IPython.notebook.find_cell_index(this.cell_info[0]);\n",
       "        IPython.notebook.select(index + 1);\n",
       "    }\n",
       "}\n",
       "\n",
       "mpl.figure.prototype.handle_save = function(fig, msg) {\n",
       "    fig.ondownload(fig, null);\n",
       "}\n",
       "\n",
       "\n",
       "mpl.find_output_cell = function(html_output) {\n",
       "    // Return the cell and output element which can be found *uniquely* in the notebook.\n",
       "    // Note - this is a bit hacky, but it is done because the \"notebook_saving.Notebook\"\n",
       "    // IPython event is triggered only after the cells have been serialised, which for\n",
       "    // our purposes (turning an active figure into a static one), is too late.\n",
       "    var cells = IPython.notebook.get_cells();\n",
       "    var ncells = cells.length;\n",
       "    for (var i=0; i<ncells; i++) {\n",
       "        var cell = cells[i];\n",
       "        if (cell.cell_type === 'code'){\n",
       "            for (var j=0; j<cell.output_area.outputs.length; j++) {\n",
       "                var data = cell.output_area.outputs[j];\n",
       "                if (data.data) {\n",
       "                    // IPython >= 3 moved mimebundle to data attribute of output\n",
       "                    data = data.data;\n",
       "                }\n",
       "                if (data['text/html'] == html_output) {\n",
       "                    return [cell, data, j];\n",
       "                }\n",
       "            }\n",
       "        }\n",
       "    }\n",
       "}\n",
       "\n",
       "// Register the function which deals with the matplotlib target/channel.\n",
       "// The kernel may be null if the page has been refreshed.\n",
       "if (IPython.notebook.kernel != null) {\n",
       "    IPython.notebook.kernel.comm_manager.register_target('matplotlib', mpl.mpl_figure_comm);\n",
       "}\n"
      ],
      "text/plain": [
       "<IPython.core.display.Javascript object>"
      ]
     },
     "metadata": {},
     "output_type": "display_data"
    },
    {
     "data": {
      "text/html": [
       "<img src=\"data:image/png;base64,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\" width=\"1399.499958291651\">"
      ],
      "text/plain": [
       "<IPython.core.display.HTML object>"
      ]
     },
     "metadata": {},
     "output_type": "display_data"
    }
   ],
   "source": [
    "vin = torch.load(get_model_path(world), map_location='cpu')\n",
    "\n",
    "labels, s1, s2, obs = get_random_data(test_ds, device)\n",
    "\n",
    "_, v, r_img = vin((s1, s2, obs), k=5)\n",
    "\n",
    "fig = make_world_r_v_image(obs, v)\n"
   ]
  },
  {
   "cell_type": "markdown",
   "metadata": {
    "slideshow": {
     "slide_type": "slide"
    }
   },
   "source": [
    "<center><img src='https://raw.githubusercontent.com/FrancescoSaverioZuppichini/Value-Iteration-Network/master/core/gridworld_28x28/figures.png'></img></center>\n",
    "\n",
    "<center>\n",
    "\n",
    "<center><img src='https://raw.githubusercontent.com/FrancescoSaverioZuppichini/Value-Iteration-Network/master/core/gridworld_28x28/animation.gif'></img></center>\n"
   ]
  },
  {
   "cell_type": "markdown",
   "metadata": {
    "slideshow": {
     "slide_type": "fragment"
    }
   },
   "source": [
    "https://github.com/FrancescoSaverioZuppichini/Value-Iteration-Network"
   ]
  },
  {
   "cell_type": "code",
   "execution_count": 66,
   "metadata": {
    "slideshow": {
     "slide_type": "slide"
    }
   },
   "outputs": [
    {
     "name": "stdout",
     "output_type": "stream",
     "text": [
      "Thank you\n"
     ]
    }
   ],
   "source": [
    "print('Thank you')"
   ]
  }
 ],
 "metadata": {
  "celltoolbar": "Slideshow",
  "kernelspec": {
   "display_name": "Python 3",
   "language": "python",
   "name": "python3"
  },
  "language_info": {
   "codemirror_mode": {
    "name": "ipython",
    "version": 3
   },
   "file_extension": ".py",
   "mimetype": "text/x-python",
   "name": "python",
   "nbconvert_exporter": "python",
   "pygments_lexer": "ipython3",
   "version": "3.6.5"
  },
  "rise": {
   "enable_chalkboard": true
  }
 },
 "nbformat": 4,
 "nbformat_minor": 2
}
