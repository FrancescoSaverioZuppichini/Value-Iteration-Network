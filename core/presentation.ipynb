{
 "cells": [
  {
   "cell_type": "markdown",
   "metadata": {
    "slideshow": {
     "slide_type": "slide"
    }
   },
   "source": [
    "# Value Iteration Networks\n",
    "## Francesco Saverio Zuppichini\n",
    "\n",
    "*Authors: Aviv Tamar, Yi Wu, Garrett Thomas, Sergey Levine, and Pieter Abbeel*"
   ]
  },
  {
   "cell_type": "markdown",
   "metadata": {
    "slideshow": {
     "slide_type": "slide"
    }
   },
   "source": [
    "# Value Iteration Networks\n",
    "![title](https://raw.githubusercontent.com/FrancescoSaverioZuppichini/Value-Iteration-Network/master/resources/vin.png)\n",
    "\n",
    "Problem: *Planning* not able to generalise unseen domains \n",
    "\n",
    "Solution: A module able to **learn** to plan"
   ]
  },
  {
   "cell_type": "markdown",
   "metadata": {
    "slideshow": {
     "slide_type": "slide"
    }
   },
   "source": [
    "# Recap"
   ]
  },
  {
   "cell_type": "markdown",
   "metadata": {
    "slideshow": {
     "slide_type": "subslide"
    }
   },
   "source": [
    "### Markov Decision Process\n",
    "\n",
    "is a 5-tuple $(S, A, P, R, \\gamma)$ where:\n",
    "\n",
    "$$\n",
    "\\begin{equation}\n",
    "        \\begin{array}{l}\n",
    "         \\text{finite set of states:} \\\\\n",
    "                s \\in S \\\\\n",
    "         \\text{finite set of actions:} \\\\\n",
    "        a \\in A \\\\\n",
    "                 \\text{state transition probabilities:} \\\\\n",
    "        p(s' | s, a) = Pr \\{S_{t + 1} = s' | S_t = s, A_t = a \\} \\\\\n",
    "                \\text{expected reward for state-action-nexstate:}\\\\\n",
    "        r(s',s, a) = \\mathbb{E}[ R_{t + 1} | S_{t + 1} = s',  S_t = s, A_t = a ]  \\\\\n",
    "        \\end{array}\n",
    "\\end{equation}\n",
    "$$"
   ]
  },
  {
   "cell_type": "markdown",
   "metadata": {
    "slideshow": {
     "slide_type": "subslide"
    }
   },
   "source": [
    "### Reward\n",
    "\n",
    "$$G_t = \\sum_{k = 0}^H \\gamma^kr_{t + k + 1}$$"
   ]
  },
  {
   "cell_type": "markdown",
   "metadata": {
    "slideshow": {
     "slide_type": "subslide"
    }
   },
   "source": [
    "### Value Function\n",
    "\n",
    "*how good* is to be in a state\n",
    "\n",
    "$$\n",
    "V_{\\pi}(s) = \\mathbb{E}[G_t | S_t = s]\n",
    "$$"
   ]
  },
  {
   "cell_type": "markdown",
   "metadata": {
    "slideshow": {
     "slide_type": "fragment"
    }
   },
   "source": [
    "#### Bellman Equation\n",
    "\n",
    "**recursive** relation\n",
    "\n",
    "$$\\begin{equation}\n",
    "\\begin{array}{l l}\n",
    "V_{\\pi}(s) & = \\mathbb{E}_{\\pi}\\begin{bmatrix}G_t | S_t = s\\end{bmatrix} \\\\\n",
    "\\\\\n",
    "& =  \\mathbb{E}_{\\pi}\\begin{bmatrix}\\sum\\limits_{k = 0}^{\\infty} \\gamma^kR_{t + k + 1} | S_t = s \\end{bmatrix} \\\\\n",
    "\\\\\n",
    "...\n",
    "\\\\\n",
    "& = \\sum\\limits_{a} \\pi(a | s) \\sum\\limits_{s'}\\sum\\limits_{r} p(s', r | s, a)\\begin{bmatrix} r + \\gamma V_{\\pi}(s')\n",
    "\\end{bmatrix}\n",
    "\\end{array}\n",
    "\\label{eq: value_bellman}\n",
    "\\end{equation}$$"
   ]
  },
  {
   "cell_type": "markdown",
   "metadata": {
    "slideshow": {
     "slide_type": "fragment"
    }
   },
   "source": [
    "Thus we can **PLAN**"
   ]
  },
  {
   "cell_type": "markdown",
   "metadata": {
    "slideshow": {
     "slide_type": "slide"
    }
   },
   "source": [
    "# Value Iteration\n",
    "\n",
    "![alt](https://raw.githubusercontent.com/FrancescoSaverioZuppichini/Value-Iteration-Network/master/resources/value_iteration.jpg)\n",
    "\n",
    "Does not *generalise*\n"
   ]
  },
  {
   "cell_type": "markdown",
   "metadata": {
    "slideshow": {
     "slide_type": "slide"
    }
   },
   "source": [
    "If we think about \n",
    "\n",
    "$$\n",
    "V_{n + 1}(s) = max_aQ_n(s,a) \\quad \\forall s\n",
    "$$\n",
    "\n",
    "where\n",
    "\n",
    "$$\n",
    "Q_n(s,a) = R(s,a) + \\gamma \\sum_{s'}P(s'|s,a)V_n(s')\n",
    "$$\n",
    "\n",
    "It is very similar to a **convolutional** and **max pooling** operation\n",
    "\n",
    "\n",
    "*paper notation*\n"
   ]
  },
  {
   "cell_type": "markdown",
   "metadata": {
    "slideshow": {
     "slide_type": "slide"
    }
   },
   "source": [
    "If we think about \n",
    "\n",
    "$$\n",
    "V_{n + 1}(s) = \\underbrace{max_a}_{\\text Max Pooling}Q_n(s,a) \\quad \\forall s\n",
    "$$\n",
    "\n",
    "where\n",
    "\n",
    "$$\n",
    "Q_n(s,a) = R(s,a) + \\underbrace{\\gamma \\sum_{s'}P(s'|s,a)}_{\\text{Convolution}}V_n(s')\n",
    "$$\n"
   ]
  },
  {
   "cell_type": "markdown",
   "metadata": {
    "slideshow": {
     "slide_type": "fragment"
    }
   },
   "source": [
    "Convolution\n",
    "\n",
    "\n",
    "$$\n",
    "h_{l', i', j'} = \\sigma(\\sum_{l,i,j} W^{l'}_{l,i,j}X_{l, i'-i, j' - j})\n",
    "$$\n",
    "\n",
    "Max Pooling\n",
    "\n",
    "$$\n",
    "h_{l, i, j} ^{\\text{maxpool}} - max_{l', j' \\in N(i,j)} h_{l,i',j'}\n",
    "$$"
   ]
  },
  {
   "cell_type": "markdown",
   "metadata": {
    "slideshow": {
     "slide_type": "subslide"
    }
   },
   "source": [
    "Thus we can represent Value Iteration with a **CNN**"
   ]
  },
  {
   "cell_type": "markdown",
   "metadata": {
    "slideshow": {
     "slide_type": "slide"
    }
   },
   "source": [
    "# Value Iteration Network\n",
    "\n",
    "![alt](https://raw.githubusercontent.com/FrancescoSaverioZuppichini/Value-Iteration-Network/master/resources/3.jpg)\n",
    "\n",
    "Assume there is a un uknowm $\\bar M$, solve it can add info to $\\pi$ policy of $M$\n",
    "\n",
    "\n",
    "We want to learn $ \\bar R = f_r(\\phi(s)) $ and $ \\bar P = f_P(\\phi(s)) $ "
   ]
  },
  {
   "cell_type": "markdown",
   "metadata": {
    "slideshow": {
     "slide_type": "fragment"
    }
   },
   "source": [
    "$\\bar R$ maps an image of the domain to a high reward at the goal and negative near an obstacle\n",
    "\n",
    "$\\bar P$ encodes deterministic movement in the grid-world that do not depend on the observations"
   ]
  },
  {
   "cell_type": "markdown",
   "metadata": {
    "slideshow": {
     "slide_type": "slide"
    }
   },
   "source": [
    "Notice that\n",
    "\n",
    "$$ \\bar \\pi^* = argmax_{\\bar a} \\bar R (\\bar s, \\bar a) + \\gamma  \\sum_{\\bar s'} \\bar P (\\bar s'| \\bar s, \\bar a) \\bar V^*(\\bar s') $$\n",
    "\n",
    "**local connectivity** the states with $\\bar P (\\bar s'| \\bar s, \\bar a)$ small subset of $\\bar S$. **Attention**\n",
    "\n",
    "![alt](https://raw.githubusercontent.com/FrancescoSaverioZuppichini/Value-Iteration-Network/master/resources/attention.jpg)\n"
   ]
  },
  {
   "cell_type": "markdown",
   "metadata": {
    "slideshow": {
     "slide_type": "slide"
    }
   },
   "source": [
    "# Value Iteration Module\n",
    "![alt](https://raw.githubusercontent.com/FrancescoSaverioZuppichini/Value-Iteration-Network/master/resources/4.jpg)\n",
    "\n",
    "$$\n",
    "Q_{\\bar a, i', j'} = \\sum_{l, i, j} W^{\\bar a}_{l,i,j} \\bar R_{l, i' - i, j' - j}\n",
    "$$"
   ]
  },
  {
   "cell_type": "markdown",
   "metadata": {
    "slideshow": {
     "slide_type": "subslide"
    }
   },
   "source": [
    "![alt](https://raw.githubusercontent.com/FrancescoSaverioZuppichini/Value-Iteration-Network/master/resources/1.jpg)\n",
    "\n",
    "new $V$ stacked ro $\\bar R$ and feed again"
   ]
  },
  {
   "cell_type": "markdown",
   "metadata": {
    "slideshow": {
     "slide_type": "slide"
    }
   },
   "source": [
    "# Experiments"
   ]
  },
  {
   "cell_type": "markdown",
   "metadata": {
    "slideshow": {
     "slide_type": "slide"
    }
   },
   "source": [
    "## Grid World\n",
    "\n",
    "![alt](https://raw.githubusercontent.com/FrancescoSaverioZuppichini/Value-Iteration-Network/master/resources/6.jpg)\n",
    "\n",
    "\n",
    "![alt](https://raw.githubusercontent.com/FrancescoSaverioZuppichini/Value-Iteration-Network/master/resources/7.jpg)\n",
    "\n",
    "\n",
    "![alt](https://raw.githubusercontent.com/FrancescoSaverioZuppichini/Value-Iteration-Network/master/resources/vis.png)\n"
   ]
  },
  {
   "cell_type": "markdown",
   "metadata": {
    "slideshow": {
     "slide_type": "subslide"
    }
   },
   "source": [
    "## Architecture\n",
    "\n",
    "![alt](https://raw.githubusercontent.com/FrancescoSaverioZuppichini/Value-Iteration-Network/master/resources/14.png)"
   ]
  },
  {
   "cell_type": "markdown",
   "metadata": {
    "slideshow": {
     "slide_type": "slide"
    }
   },
   "source": [
    "# Mars Rover Navigation\n",
    "\n",
    "![alt](https://raw.githubusercontent.com/FrancescoSaverioZuppichini/Value-Iteration-Network/master/resources/12.jpg)\n",
    "\n",
    "\n",
    "VIN learn to plan *from natural image input* \n",
    "\n",
    "elevation/obstacles data not a part of the input\n",
    "\n",
    "$84.8%$ success rate"
   ]
  },
  {
   "cell_type": "markdown",
   "metadata": {
    "slideshow": {
     "slide_type": "slide"
    }
   },
   "source": [
    "# Continuous Control\n",
    "![alt](https://raw.githubusercontent.com/FrancescoSaverioZuppichini/Value-Iteration-Network/master/resources/10.jpg)\n",
    "\n",
    "\n",
    "Continuous states and continuous actions\n",
    "\n",
    "Grid size 28x28\n",
    "\n",
    "VIN train on coarse grid representation"
   ]
  },
  {
   "cell_type": "markdown",
   "metadata": {
    "slideshow": {
     "slide_type": "slide"
    }
   },
   "source": [
    "![alt](https://raw.githubusercontent.com/FrancescoSaverioZuppichini/Value-Iteration-Network/master/resources/h.png)\n",
    "![alt](https://raw.githubusercontent.com/FrancescoSaverioZuppichini/Value-Iteration-Network/master/resources/r.png)\n"
   ]
  },
  {
   "cell_type": "markdown",
   "metadata": {
    "slideshow": {
     "slide_type": "slide"
    }
   },
   "source": [
    "# Conclusion\n",
    "\n",
    "scalable architecture \n",
    "\n",
    "It is able to learn!\n",
    "\n",
    "easy to implement"
   ]
  },
  {
   "cell_type": "markdown",
   "metadata": {
    "slideshow": {
     "slide_type": "slide"
    }
   },
   "source": [
    "#### Does it work?"
   ]
  },
  {
   "cell_type": "code",
   "execution_count": 52,
   "metadata": {
    "slideshow": {
     "slide_type": "subslide"
    }
   },
   "outputs": [],
   "source": [
    "import torch\n",
    "\n",
    "import matplotlib.pyplot as plt\n",
    "\n",
    "from torch.utils.data import DataLoader\n",
    "\n",
    "from datasets import GridWorldDataset\n",
    "from config import *\n",
    "from utils import *\n",
    "\n",
    "%matplotlib notebook \n",
    "plt.rcParams['figure.figsize'] = (14,4)"
   ]
  },
  {
   "cell_type": "code",
   "execution_count": 67,
   "metadata": {
    "slideshow": {
     "slide_type": "subslide"
    }
   },
   "outputs": [],
   "source": [
    "world = WORLD_8X8\n",
    "\n",
    "test_ds = GridWorldDataset(*world, train=False)"
   ]
  },
  {
   "cell_type": "code",
   "execution_count": 72,
   "metadata": {
    "scrolled": false,
    "slideshow": {
     "slide_type": "slide"
    }
   },
   "outputs": [
    {
     "name": "stderr",
     "output_type": "stream",
     "text": [
      "/usr/local/lib/python3.6/site-packages/torch/serialization.py:425: SourceChangeWarning: source code of class 'model.q' has changed. you can retrieve the original source code by accessing the object's source attribute or set `torch.nn.Module.dump_patches = True` and use the patch tool to revert the changes.\n",
      "  warnings.warn(msg, SourceChangeWarning)\n"
     ]
    },
    {
     "data": {
      "application/javascript": [
       "/* Put everything inside the global mpl namespace */\n",
       "window.mpl = {};\n",
       "\n",
       "\n",
       "mpl.get_websocket_type = function() {\n",
       "    if (typeof(WebSocket) !== 'undefined') {\n",
       "        return WebSocket;\n",
       "    } else if (typeof(MozWebSocket) !== 'undefined') {\n",
       "        return MozWebSocket;\n",
       "    } else {\n",
       "        alert('Your browser does not have WebSocket support.' +\n",
       "              'Please try Chrome, Safari or Firefox ≥ 6. ' +\n",
       "              'Firefox 4 and 5 are also supported but you ' +\n",
       "              'have to enable WebSockets in about:config.');\n",
       "    };\n",
       "}\n",
       "\n",
       "mpl.figure = function(figure_id, websocket, ondownload, parent_element) {\n",
       "    this.id = figure_id;\n",
       "\n",
       "    this.ws = websocket;\n",
       "\n",
       "    this.supports_binary = (this.ws.binaryType != undefined);\n",
       "\n",
       "    if (!this.supports_binary) {\n",
       "        var warnings = document.getElementById(\"mpl-warnings\");\n",
       "        if (warnings) {\n",
       "            warnings.style.display = 'block';\n",
       "            warnings.textContent = (\n",
       "                \"This browser does not support binary websocket messages. \" +\n",
       "                    \"Performance may be slow.\");\n",
       "        }\n",
       "    }\n",
       "\n",
       "    this.imageObj = new Image();\n",
       "\n",
       "    this.context = undefined;\n",
       "    this.message = undefined;\n",
       "    this.canvas = undefined;\n",
       "    this.rubberband_canvas = undefined;\n",
       "    this.rubberband_context = undefined;\n",
       "    this.format_dropdown = undefined;\n",
       "\n",
       "    this.image_mode = 'full';\n",
       "\n",
       "    this.root = $('<div/>');\n",
       "    this._root_extra_style(this.root)\n",
       "    this.root.attr('style', 'display: inline-block');\n",
       "\n",
       "    $(parent_element).append(this.root);\n",
       "\n",
       "    this._init_header(this);\n",
       "    this._init_canvas(this);\n",
       "    this._init_toolbar(this);\n",
       "\n",
       "    var fig = this;\n",
       "\n",
       "    this.waiting = false;\n",
       "\n",
       "    this.ws.onopen =  function () {\n",
       "            fig.send_message(\"supports_binary\", {value: fig.supports_binary});\n",
       "            fig.send_message(\"send_image_mode\", {});\n",
       "            if (mpl.ratio != 1) {\n",
       "                fig.send_message(\"set_dpi_ratio\", {'dpi_ratio': mpl.ratio});\n",
       "            }\n",
       "            fig.send_message(\"refresh\", {});\n",
       "        }\n",
       "\n",
       "    this.imageObj.onload = function() {\n",
       "            if (fig.image_mode == 'full') {\n",
       "                // Full images could contain transparency (where diff images\n",
       "                // almost always do), so we need to clear the canvas so that\n",
       "                // there is no ghosting.\n",
       "                fig.context.clearRect(0, 0, fig.canvas.width, fig.canvas.height);\n",
       "            }\n",
       "            fig.context.drawImage(fig.imageObj, 0, 0);\n",
       "        };\n",
       "\n",
       "    this.imageObj.onunload = function() {\n",
       "        this.ws.close();\n",
       "    }\n",
       "\n",
       "    this.ws.onmessage = this._make_on_message_function(this);\n",
       "\n",
       "    this.ondownload = ondownload;\n",
       "}\n",
       "\n",
       "mpl.figure.prototype._init_header = function() {\n",
       "    var titlebar = $(\n",
       "        '<div class=\"ui-dialog-titlebar ui-widget-header ui-corner-all ' +\n",
       "        'ui-helper-clearfix\"/>');\n",
       "    var titletext = $(\n",
       "        '<div class=\"ui-dialog-title\" style=\"width: 100%; ' +\n",
       "        'text-align: center; padding: 3px;\"/>');\n",
       "    titlebar.append(titletext)\n",
       "    this.root.append(titlebar);\n",
       "    this.header = titletext[0];\n",
       "}\n",
       "\n",
       "\n",
       "\n",
       "mpl.figure.prototype._canvas_extra_style = function(canvas_div) {\n",
       "\n",
       "}\n",
       "\n",
       "\n",
       "mpl.figure.prototype._root_extra_style = function(canvas_div) {\n",
       "\n",
       "}\n",
       "\n",
       "mpl.figure.prototype._init_canvas = function() {\n",
       "    var fig = this;\n",
       "\n",
       "    var canvas_div = $('<div/>');\n",
       "\n",
       "    canvas_div.attr('style', 'position: relative; clear: both; outline: 0');\n",
       "\n",
       "    function canvas_keyboard_event(event) {\n",
       "        return fig.key_event(event, event['data']);\n",
       "    }\n",
       "\n",
       "    canvas_div.keydown('key_press', canvas_keyboard_event);\n",
       "    canvas_div.keyup('key_release', canvas_keyboard_event);\n",
       "    this.canvas_div = canvas_div\n",
       "    this._canvas_extra_style(canvas_div)\n",
       "    this.root.append(canvas_div);\n",
       "\n",
       "    var canvas = $('<canvas/>');\n",
       "    canvas.addClass('mpl-canvas');\n",
       "    canvas.attr('style', \"left: 0; top: 0; z-index: 0; outline: 0\")\n",
       "\n",
       "    this.canvas = canvas[0];\n",
       "    this.context = canvas[0].getContext(\"2d\");\n",
       "\n",
       "    var backingStore = this.context.backingStorePixelRatio ||\n",
       "\tthis.context.webkitBackingStorePixelRatio ||\n",
       "\tthis.context.mozBackingStorePixelRatio ||\n",
       "\tthis.context.msBackingStorePixelRatio ||\n",
       "\tthis.context.oBackingStorePixelRatio ||\n",
       "\tthis.context.backingStorePixelRatio || 1;\n",
       "\n",
       "    mpl.ratio = (window.devicePixelRatio || 1) / backingStore;\n",
       "\n",
       "    var rubberband = $('<canvas/>');\n",
       "    rubberband.attr('style', \"position: absolute; left: 0; top: 0; z-index: 1;\")\n",
       "\n",
       "    var pass_mouse_events = true;\n",
       "\n",
       "    canvas_div.resizable({\n",
       "        start: function(event, ui) {\n",
       "            pass_mouse_events = false;\n",
       "        },\n",
       "        resize: function(event, ui) {\n",
       "            fig.request_resize(ui.size.width, ui.size.height);\n",
       "        },\n",
       "        stop: function(event, ui) {\n",
       "            pass_mouse_events = true;\n",
       "            fig.request_resize(ui.size.width, ui.size.height);\n",
       "        },\n",
       "    });\n",
       "\n",
       "    function mouse_event_fn(event) {\n",
       "        if (pass_mouse_events)\n",
       "            return fig.mouse_event(event, event['data']);\n",
       "    }\n",
       "\n",
       "    rubberband.mousedown('button_press', mouse_event_fn);\n",
       "    rubberband.mouseup('button_release', mouse_event_fn);\n",
       "    // Throttle sequential mouse events to 1 every 20ms.\n",
       "    rubberband.mousemove('motion_notify', mouse_event_fn);\n",
       "\n",
       "    rubberband.mouseenter('figure_enter', mouse_event_fn);\n",
       "    rubberband.mouseleave('figure_leave', mouse_event_fn);\n",
       "\n",
       "    canvas_div.on(\"wheel\", function (event) {\n",
       "        event = event.originalEvent;\n",
       "        event['data'] = 'scroll'\n",
       "        if (event.deltaY < 0) {\n",
       "            event.step = 1;\n",
       "        } else {\n",
       "            event.step = -1;\n",
       "        }\n",
       "        mouse_event_fn(event);\n",
       "    });\n",
       "\n",
       "    canvas_div.append(canvas);\n",
       "    canvas_div.append(rubberband);\n",
       "\n",
       "    this.rubberband = rubberband;\n",
       "    this.rubberband_canvas = rubberband[0];\n",
       "    this.rubberband_context = rubberband[0].getContext(\"2d\");\n",
       "    this.rubberband_context.strokeStyle = \"#000000\";\n",
       "\n",
       "    this._resize_canvas = function(width, height) {\n",
       "        // Keep the size of the canvas, canvas container, and rubber band\n",
       "        // canvas in synch.\n",
       "        canvas_div.css('width', width)\n",
       "        canvas_div.css('height', height)\n",
       "\n",
       "        canvas.attr('width', width * mpl.ratio);\n",
       "        canvas.attr('height', height * mpl.ratio);\n",
       "        canvas.attr('style', 'width: ' + width + 'px; height: ' + height + 'px;');\n",
       "\n",
       "        rubberband.attr('width', width);\n",
       "        rubberband.attr('height', height);\n",
       "    }\n",
       "\n",
       "    // Set the figure to an initial 600x600px, this will subsequently be updated\n",
       "    // upon first draw.\n",
       "    this._resize_canvas(600, 600);\n",
       "\n",
       "    // Disable right mouse context menu.\n",
       "    $(this.rubberband_canvas).bind(\"contextmenu\",function(e){\n",
       "        return false;\n",
       "    });\n",
       "\n",
       "    function set_focus () {\n",
       "        canvas.focus();\n",
       "        canvas_div.focus();\n",
       "    }\n",
       "\n",
       "    window.setTimeout(set_focus, 100);\n",
       "}\n",
       "\n",
       "mpl.figure.prototype._init_toolbar = function() {\n",
       "    var fig = this;\n",
       "\n",
       "    var nav_element = $('<div/>')\n",
       "    nav_element.attr('style', 'width: 100%');\n",
       "    this.root.append(nav_element);\n",
       "\n",
       "    // Define a callback function for later on.\n",
       "    function toolbar_event(event) {\n",
       "        return fig.toolbar_button_onclick(event['data']);\n",
       "    }\n",
       "    function toolbar_mouse_event(event) {\n",
       "        return fig.toolbar_button_onmouseover(event['data']);\n",
       "    }\n",
       "\n",
       "    for(var toolbar_ind in mpl.toolbar_items) {\n",
       "        var name = mpl.toolbar_items[toolbar_ind][0];\n",
       "        var tooltip = mpl.toolbar_items[toolbar_ind][1];\n",
       "        var image = mpl.toolbar_items[toolbar_ind][2];\n",
       "        var method_name = mpl.toolbar_items[toolbar_ind][3];\n",
       "\n",
       "        if (!name) {\n",
       "            // put a spacer in here.\n",
       "            continue;\n",
       "        }\n",
       "        var button = $('<button/>');\n",
       "        button.addClass('ui-button ui-widget ui-state-default ui-corner-all ' +\n",
       "                        'ui-button-icon-only');\n",
       "        button.attr('role', 'button');\n",
       "        button.attr('aria-disabled', 'false');\n",
       "        button.click(method_name, toolbar_event);\n",
       "        button.mouseover(tooltip, toolbar_mouse_event);\n",
       "\n",
       "        var icon_img = $('<span/>');\n",
       "        icon_img.addClass('ui-button-icon-primary ui-icon');\n",
       "        icon_img.addClass(image);\n",
       "        icon_img.addClass('ui-corner-all');\n",
       "\n",
       "        var tooltip_span = $('<span/>');\n",
       "        tooltip_span.addClass('ui-button-text');\n",
       "        tooltip_span.html(tooltip);\n",
       "\n",
       "        button.append(icon_img);\n",
       "        button.append(tooltip_span);\n",
       "\n",
       "        nav_element.append(button);\n",
       "    }\n",
       "\n",
       "    var fmt_picker_span = $('<span/>');\n",
       "\n",
       "    var fmt_picker = $('<select/>');\n",
       "    fmt_picker.addClass('mpl-toolbar-option ui-widget ui-widget-content');\n",
       "    fmt_picker_span.append(fmt_picker);\n",
       "    nav_element.append(fmt_picker_span);\n",
       "    this.format_dropdown = fmt_picker[0];\n",
       "\n",
       "    for (var ind in mpl.extensions) {\n",
       "        var fmt = mpl.extensions[ind];\n",
       "        var option = $(\n",
       "            '<option/>', {selected: fmt === mpl.default_extension}).html(fmt);\n",
       "        fmt_picker.append(option)\n",
       "    }\n",
       "\n",
       "    // Add hover states to the ui-buttons\n",
       "    $( \".ui-button\" ).hover(\n",
       "        function() { $(this).addClass(\"ui-state-hover\");},\n",
       "        function() { $(this).removeClass(\"ui-state-hover\");}\n",
       "    );\n",
       "\n",
       "    var status_bar = $('<span class=\"mpl-message\"/>');\n",
       "    nav_element.append(status_bar);\n",
       "    this.message = status_bar[0];\n",
       "}\n",
       "\n",
       "mpl.figure.prototype.request_resize = function(x_pixels, y_pixels) {\n",
       "    // Request matplotlib to resize the figure. Matplotlib will then trigger a resize in the client,\n",
       "    // which will in turn request a refresh of the image.\n",
       "    this.send_message('resize', {'width': x_pixels, 'height': y_pixels});\n",
       "}\n",
       "\n",
       "mpl.figure.prototype.send_message = function(type, properties) {\n",
       "    properties['type'] = type;\n",
       "    properties['figure_id'] = this.id;\n",
       "    this.ws.send(JSON.stringify(properties));\n",
       "}\n",
       "\n",
       "mpl.figure.prototype.send_draw_message = function() {\n",
       "    if (!this.waiting) {\n",
       "        this.waiting = true;\n",
       "        this.ws.send(JSON.stringify({type: \"draw\", figure_id: this.id}));\n",
       "    }\n",
       "}\n",
       "\n",
       "\n",
       "mpl.figure.prototype.handle_save = function(fig, msg) {\n",
       "    var format_dropdown = fig.format_dropdown;\n",
       "    var format = format_dropdown.options[format_dropdown.selectedIndex].value;\n",
       "    fig.ondownload(fig, format);\n",
       "}\n",
       "\n",
       "\n",
       "mpl.figure.prototype.handle_resize = function(fig, msg) {\n",
       "    var size = msg['size'];\n",
       "    if (size[0] != fig.canvas.width || size[1] != fig.canvas.height) {\n",
       "        fig._resize_canvas(size[0], size[1]);\n",
       "        fig.send_message(\"refresh\", {});\n",
       "    };\n",
       "}\n",
       "\n",
       "mpl.figure.prototype.handle_rubberband = function(fig, msg) {\n",
       "    var x0 = msg['x0'] / mpl.ratio;\n",
       "    var y0 = (fig.canvas.height - msg['y0']) / mpl.ratio;\n",
       "    var x1 = msg['x1'] / mpl.ratio;\n",
       "    var y1 = (fig.canvas.height - msg['y1']) / mpl.ratio;\n",
       "    x0 = Math.floor(x0) + 0.5;\n",
       "    y0 = Math.floor(y0) + 0.5;\n",
       "    x1 = Math.floor(x1) + 0.5;\n",
       "    y1 = Math.floor(y1) + 0.5;\n",
       "    var min_x = Math.min(x0, x1);\n",
       "    var min_y = Math.min(y0, y1);\n",
       "    var width = Math.abs(x1 - x0);\n",
       "    var height = Math.abs(y1 - y0);\n",
       "\n",
       "    fig.rubberband_context.clearRect(\n",
       "        0, 0, fig.canvas.width, fig.canvas.height);\n",
       "\n",
       "    fig.rubberband_context.strokeRect(min_x, min_y, width, height);\n",
       "}\n",
       "\n",
       "mpl.figure.prototype.handle_figure_label = function(fig, msg) {\n",
       "    // Updates the figure title.\n",
       "    fig.header.textContent = msg['label'];\n",
       "}\n",
       "\n",
       "mpl.figure.prototype.handle_cursor = function(fig, msg) {\n",
       "    var cursor = msg['cursor'];\n",
       "    switch(cursor)\n",
       "    {\n",
       "    case 0:\n",
       "        cursor = 'pointer';\n",
       "        break;\n",
       "    case 1:\n",
       "        cursor = 'default';\n",
       "        break;\n",
       "    case 2:\n",
       "        cursor = 'crosshair';\n",
       "        break;\n",
       "    case 3:\n",
       "        cursor = 'move';\n",
       "        break;\n",
       "    }\n",
       "    fig.rubberband_canvas.style.cursor = cursor;\n",
       "}\n",
       "\n",
       "mpl.figure.prototype.handle_message = function(fig, msg) {\n",
       "    fig.message.textContent = msg['message'];\n",
       "}\n",
       "\n",
       "mpl.figure.prototype.handle_draw = function(fig, msg) {\n",
       "    // Request the server to send over a new figure.\n",
       "    fig.send_draw_message();\n",
       "}\n",
       "\n",
       "mpl.figure.prototype.handle_image_mode = function(fig, msg) {\n",
       "    fig.image_mode = msg['mode'];\n",
       "}\n",
       "\n",
       "mpl.figure.prototype.updated_canvas_event = function() {\n",
       "    // Called whenever the canvas gets updated.\n",
       "    this.send_message(\"ack\", {});\n",
       "}\n",
       "\n",
       "// A function to construct a web socket function for onmessage handling.\n",
       "// Called in the figure constructor.\n",
       "mpl.figure.prototype._make_on_message_function = function(fig) {\n",
       "    return function socket_on_message(evt) {\n",
       "        if (evt.data instanceof Blob) {\n",
       "            /* FIXME: We get \"Resource interpreted as Image but\n",
       "             * transferred with MIME type text/plain:\" errors on\n",
       "             * Chrome.  But how to set the MIME type?  It doesn't seem\n",
       "             * to be part of the websocket stream */\n",
       "            evt.data.type = \"image/png\";\n",
       "\n",
       "            /* Free the memory for the previous frames */\n",
       "            if (fig.imageObj.src) {\n",
       "                (window.URL || window.webkitURL).revokeObjectURL(\n",
       "                    fig.imageObj.src);\n",
       "            }\n",
       "\n",
       "            fig.imageObj.src = (window.URL || window.webkitURL).createObjectURL(\n",
       "                evt.data);\n",
       "            fig.updated_canvas_event();\n",
       "            fig.waiting = false;\n",
       "            return;\n",
       "        }\n",
       "        else if (typeof evt.data === 'string' && evt.data.slice(0, 21) == \"data:image/png;base64\") {\n",
       "            fig.imageObj.src = evt.data;\n",
       "            fig.updated_canvas_event();\n",
       "            fig.waiting = false;\n",
       "            return;\n",
       "        }\n",
       "\n",
       "        var msg = JSON.parse(evt.data);\n",
       "        var msg_type = msg['type'];\n",
       "\n",
       "        // Call the  \"handle_{type}\" callback, which takes\n",
       "        // the figure and JSON message as its only arguments.\n",
       "        try {\n",
       "            var callback = fig[\"handle_\" + msg_type];\n",
       "        } catch (e) {\n",
       "            console.log(\"No handler for the '\" + msg_type + \"' message type: \", msg);\n",
       "            return;\n",
       "        }\n",
       "\n",
       "        if (callback) {\n",
       "            try {\n",
       "                // console.log(\"Handling '\" + msg_type + \"' message: \", msg);\n",
       "                callback(fig, msg);\n",
       "            } catch (e) {\n",
       "                console.log(\"Exception inside the 'handler_\" + msg_type + \"' callback:\", e, e.stack, msg);\n",
       "            }\n",
       "        }\n",
       "    };\n",
       "}\n",
       "\n",
       "// from http://stackoverflow.com/questions/1114465/getting-mouse-location-in-canvas\n",
       "mpl.findpos = function(e) {\n",
       "    //this section is from http://www.quirksmode.org/js/events_properties.html\n",
       "    var targ;\n",
       "    if (!e)\n",
       "        e = window.event;\n",
       "    if (e.target)\n",
       "        targ = e.target;\n",
       "    else if (e.srcElement)\n",
       "        targ = e.srcElement;\n",
       "    if (targ.nodeType == 3) // defeat Safari bug\n",
       "        targ = targ.parentNode;\n",
       "\n",
       "    // jQuery normalizes the pageX and pageY\n",
       "    // pageX,Y are the mouse positions relative to the document\n",
       "    // offset() returns the position of the element relative to the document\n",
       "    var x = e.pageX - $(targ).offset().left;\n",
       "    var y = e.pageY - $(targ).offset().top;\n",
       "\n",
       "    return {\"x\": x, \"y\": y};\n",
       "};\n",
       "\n",
       "/*\n",
       " * return a copy of an object with only non-object keys\n",
       " * we need this to avoid circular references\n",
       " * http://stackoverflow.com/a/24161582/3208463\n",
       " */\n",
       "function simpleKeys (original) {\n",
       "  return Object.keys(original).reduce(function (obj, key) {\n",
       "    if (typeof original[key] !== 'object')\n",
       "        obj[key] = original[key]\n",
       "    return obj;\n",
       "  }, {});\n",
       "}\n",
       "\n",
       "mpl.figure.prototype.mouse_event = function(event, name) {\n",
       "    var canvas_pos = mpl.findpos(event)\n",
       "\n",
       "    if (name === 'button_press')\n",
       "    {\n",
       "        this.canvas.focus();\n",
       "        this.canvas_div.focus();\n",
       "    }\n",
       "\n",
       "    var x = canvas_pos.x * mpl.ratio;\n",
       "    var y = canvas_pos.y * mpl.ratio;\n",
       "\n",
       "    this.send_message(name, {x: x, y: y, button: event.button,\n",
       "                             step: event.step,\n",
       "                             guiEvent: simpleKeys(event)});\n",
       "\n",
       "    /* This prevents the web browser from automatically changing to\n",
       "     * the text insertion cursor when the button is pressed.  We want\n",
       "     * to control all of the cursor setting manually through the\n",
       "     * 'cursor' event from matplotlib */\n",
       "    event.preventDefault();\n",
       "    return false;\n",
       "}\n",
       "\n",
       "mpl.figure.prototype._key_event_extra = function(event, name) {\n",
       "    // Handle any extra behaviour associated with a key event\n",
       "}\n",
       "\n",
       "mpl.figure.prototype.key_event = function(event, name) {\n",
       "\n",
       "    // Prevent repeat events\n",
       "    if (name == 'key_press')\n",
       "    {\n",
       "        if (event.which === this._key)\n",
       "            return;\n",
       "        else\n",
       "            this._key = event.which;\n",
       "    }\n",
       "    if (name == 'key_release')\n",
       "        this._key = null;\n",
       "\n",
       "    var value = '';\n",
       "    if (event.ctrlKey && event.which != 17)\n",
       "        value += \"ctrl+\";\n",
       "    if (event.altKey && event.which != 18)\n",
       "        value += \"alt+\";\n",
       "    if (event.shiftKey && event.which != 16)\n",
       "        value += \"shift+\";\n",
       "\n",
       "    value += 'k';\n",
       "    value += event.which.toString();\n",
       "\n",
       "    this._key_event_extra(event, name);\n",
       "\n",
       "    this.send_message(name, {key: value,\n",
       "                             guiEvent: simpleKeys(event)});\n",
       "    return false;\n",
       "}\n",
       "\n",
       "mpl.figure.prototype.toolbar_button_onclick = function(name) {\n",
       "    if (name == 'download') {\n",
       "        this.handle_save(this, null);\n",
       "    } else {\n",
       "        this.send_message(\"toolbar_button\", {name: name});\n",
       "    }\n",
       "};\n",
       "\n",
       "mpl.figure.prototype.toolbar_button_onmouseover = function(tooltip) {\n",
       "    this.message.textContent = tooltip;\n",
       "};\n",
       "mpl.toolbar_items = [[\"Home\", \"Reset original view\", \"fa fa-home icon-home\", \"home\"], [\"Back\", \"Back to  previous view\", \"fa fa-arrow-left icon-arrow-left\", \"back\"], [\"Forward\", \"Forward to next view\", \"fa fa-arrow-right icon-arrow-right\", \"forward\"], [\"\", \"\", \"\", \"\"], [\"Pan\", \"Pan axes with left mouse, zoom with right\", \"fa fa-arrows icon-move\", \"pan\"], [\"Zoom\", \"Zoom to rectangle\", \"fa fa-square-o icon-check-empty\", \"zoom\"], [\"\", \"\", \"\", \"\"], [\"Download\", \"Download plot\", \"fa fa-floppy-o icon-save\", \"download\"]];\n",
       "\n",
       "mpl.extensions = [\"eps\", \"jpeg\", \"pdf\", \"png\", \"ps\", \"raw\", \"svg\", \"tif\"];\n",
       "\n",
       "mpl.default_extension = \"png\";var comm_websocket_adapter = function(comm) {\n",
       "    // Create a \"websocket\"-like object which calls the given IPython comm\n",
       "    // object with the appropriate methods. Currently this is a non binary\n",
       "    // socket, so there is still some room for performance tuning.\n",
       "    var ws = {};\n",
       "\n",
       "    ws.close = function() {\n",
       "        comm.close()\n",
       "    };\n",
       "    ws.send = function(m) {\n",
       "        //console.log('sending', m);\n",
       "        comm.send(m);\n",
       "    };\n",
       "    // Register the callback with on_msg.\n",
       "    comm.on_msg(function(msg) {\n",
       "        //console.log('receiving', msg['content']['data'], msg);\n",
       "        // Pass the mpl event to the overriden (by mpl) onmessage function.\n",
       "        ws.onmessage(msg['content']['data'])\n",
       "    });\n",
       "    return ws;\n",
       "}\n",
       "\n",
       "mpl.mpl_figure_comm = function(comm, msg) {\n",
       "    // This is the function which gets called when the mpl process\n",
       "    // starts-up an IPython Comm through the \"matplotlib\" channel.\n",
       "\n",
       "    var id = msg.content.data.id;\n",
       "    // Get hold of the div created by the display call when the Comm\n",
       "    // socket was opened in Python.\n",
       "    var element = $(\"#\" + id);\n",
       "    var ws_proxy = comm_websocket_adapter(comm)\n",
       "\n",
       "    function ondownload(figure, format) {\n",
       "        window.open(figure.imageObj.src);\n",
       "    }\n",
       "\n",
       "    var fig = new mpl.figure(id, ws_proxy,\n",
       "                           ondownload,\n",
       "                           element.get(0));\n",
       "\n",
       "    // Call onopen now - mpl needs it, as it is assuming we've passed it a real\n",
       "    // web socket which is closed, not our websocket->open comm proxy.\n",
       "    ws_proxy.onopen();\n",
       "\n",
       "    fig.parent_element = element.get(0);\n",
       "    fig.cell_info = mpl.find_output_cell(\"<div id='\" + id + \"'></div>\");\n",
       "    if (!fig.cell_info) {\n",
       "        console.error(\"Failed to find cell for figure\", id, fig);\n",
       "        return;\n",
       "    }\n",
       "\n",
       "    var output_index = fig.cell_info[2]\n",
       "    var cell = fig.cell_info[0];\n",
       "\n",
       "};\n",
       "\n",
       "mpl.figure.prototype.handle_close = function(fig, msg) {\n",
       "    var width = fig.canvas.width/mpl.ratio\n",
       "    fig.root.unbind('remove')\n",
       "\n",
       "    // Update the output cell to use the data from the current canvas.\n",
       "    fig.push_to_output();\n",
       "    var dataURL = fig.canvas.toDataURL();\n",
       "    // Re-enable the keyboard manager in IPython - without this line, in FF,\n",
       "    // the notebook keyboard shortcuts fail.\n",
       "    IPython.keyboard_manager.enable()\n",
       "    $(fig.parent_element).html('<img src=\"' + dataURL + '\" width=\"' + width + '\">');\n",
       "    fig.close_ws(fig, msg);\n",
       "}\n",
       "\n",
       "mpl.figure.prototype.close_ws = function(fig, msg){\n",
       "    fig.send_message('closing', msg);\n",
       "    // fig.ws.close()\n",
       "}\n",
       "\n",
       "mpl.figure.prototype.push_to_output = function(remove_interactive) {\n",
       "    // Turn the data on the canvas into data in the output cell.\n",
       "    var width = this.canvas.width/mpl.ratio\n",
       "    var dataURL = this.canvas.toDataURL();\n",
       "    this.cell_info[1]['text/html'] = '<img src=\"' + dataURL + '\" width=\"' + width + '\">';\n",
       "}\n",
       "\n",
       "mpl.figure.prototype.updated_canvas_event = function() {\n",
       "    // Tell IPython that the notebook contents must change.\n",
       "    IPython.notebook.set_dirty(true);\n",
       "    this.send_message(\"ack\", {});\n",
       "    var fig = this;\n",
       "    // Wait a second, then push the new image to the DOM so\n",
       "    // that it is saved nicely (might be nice to debounce this).\n",
       "    setTimeout(function () { fig.push_to_output() }, 1000);\n",
       "}\n",
       "\n",
       "mpl.figure.prototype._init_toolbar = function() {\n",
       "    var fig = this;\n",
       "\n",
       "    var nav_element = $('<div/>')\n",
       "    nav_element.attr('style', 'width: 100%');\n",
       "    this.root.append(nav_element);\n",
       "\n",
       "    // Define a callback function for later on.\n",
       "    function toolbar_event(event) {\n",
       "        return fig.toolbar_button_onclick(event['data']);\n",
       "    }\n",
       "    function toolbar_mouse_event(event) {\n",
       "        return fig.toolbar_button_onmouseover(event['data']);\n",
       "    }\n",
       "\n",
       "    for(var toolbar_ind in mpl.toolbar_items){\n",
       "        var name = mpl.toolbar_items[toolbar_ind][0];\n",
       "        var tooltip = mpl.toolbar_items[toolbar_ind][1];\n",
       "        var image = mpl.toolbar_items[toolbar_ind][2];\n",
       "        var method_name = mpl.toolbar_items[toolbar_ind][3];\n",
       "\n",
       "        if (!name) { continue; };\n",
       "\n",
       "        var button = $('<button class=\"btn btn-default\" href=\"#\" title=\"' + name + '\"><i class=\"fa ' + image + ' fa-lg\"></i></button>');\n",
       "        button.click(method_name, toolbar_event);\n",
       "        button.mouseover(tooltip, toolbar_mouse_event);\n",
       "        nav_element.append(button);\n",
       "    }\n",
       "\n",
       "    // Add the status bar.\n",
       "    var status_bar = $('<span class=\"mpl-message\" style=\"text-align:right; float: right;\"/>');\n",
       "    nav_element.append(status_bar);\n",
       "    this.message = status_bar[0];\n",
       "\n",
       "    // Add the close button to the window.\n",
       "    var buttongrp = $('<div class=\"btn-group inline pull-right\"></div>');\n",
       "    var button = $('<button class=\"btn btn-mini btn-primary\" href=\"#\" title=\"Stop Interaction\"><i class=\"fa fa-power-off icon-remove icon-large\"></i></button>');\n",
       "    button.click(function (evt) { fig.handle_close(fig, {}); } );\n",
       "    button.mouseover('Stop Interaction', toolbar_mouse_event);\n",
       "    buttongrp.append(button);\n",
       "    var titlebar = this.root.find($('.ui-dialog-titlebar'));\n",
       "    titlebar.prepend(buttongrp);\n",
       "}\n",
       "\n",
       "mpl.figure.prototype._root_extra_style = function(el){\n",
       "    var fig = this\n",
       "    el.on(\"remove\", function(){\n",
       "\tfig.close_ws(fig, {});\n",
       "    });\n",
       "}\n",
       "\n",
       "mpl.figure.prototype._canvas_extra_style = function(el){\n",
       "    // this is important to make the div 'focusable\n",
       "    el.attr('tabindex', 0)\n",
       "    // reach out to IPython and tell the keyboard manager to turn it's self\n",
       "    // off when our div gets focus\n",
       "\n",
       "    // location in version 3\n",
       "    if (IPython.notebook.keyboard_manager) {\n",
       "        IPython.notebook.keyboard_manager.register_events(el);\n",
       "    }\n",
       "    else {\n",
       "        // location in version 2\n",
       "        IPython.keyboard_manager.register_events(el);\n",
       "    }\n",
       "\n",
       "}\n",
       "\n",
       "mpl.figure.prototype._key_event_extra = function(event, name) {\n",
       "    var manager = IPython.notebook.keyboard_manager;\n",
       "    if (!manager)\n",
       "        manager = IPython.keyboard_manager;\n",
       "\n",
       "    // Check for shift+enter\n",
       "    if (event.shiftKey && event.which == 13) {\n",
       "        this.canvas_div.blur();\n",
       "        // select the cell after this one\n",
       "        var index = IPython.notebook.find_cell_index(this.cell_info[0]);\n",
       "        IPython.notebook.select(index + 1);\n",
       "    }\n",
       "}\n",
       "\n",
       "mpl.figure.prototype.handle_save = function(fig, msg) {\n",
       "    fig.ondownload(fig, null);\n",
       "}\n",
       "\n",
       "\n",
       "mpl.find_output_cell = function(html_output) {\n",
       "    // Return the cell and output element which can be found *uniquely* in the notebook.\n",
       "    // Note - this is a bit hacky, but it is done because the \"notebook_saving.Notebook\"\n",
       "    // IPython event is triggered only after the cells have been serialised, which for\n",
       "    // our purposes (turning an active figure into a static one), is too late.\n",
       "    var cells = IPython.notebook.get_cells();\n",
       "    var ncells = cells.length;\n",
       "    for (var i=0; i<ncells; i++) {\n",
       "        var cell = cells[i];\n",
       "        if (cell.cell_type === 'code'){\n",
       "            for (var j=0; j<cell.output_area.outputs.length; j++) {\n",
       "                var data = cell.output_area.outputs[j];\n",
       "                if (data.data) {\n",
       "                    // IPython >= 3 moved mimebundle to data attribute of output\n",
       "                    data = data.data;\n",
       "                }\n",
       "                if (data['text/html'] == html_output) {\n",
       "                    return [cell, data, j];\n",
       "                }\n",
       "            }\n",
       "        }\n",
       "    }\n",
       "}\n",
       "\n",
       "// Register the function which deals with the matplotlib target/channel.\n",
       "// The kernel may be null if the page has been refreshed.\n",
       "if (IPython.notebook.kernel != null) {\n",
       "    IPython.notebook.kernel.comm_manager.register_target('matplotlib', mpl.mpl_figure_comm);\n",
       "}\n"
      ],
      "text/plain": [
       "<IPython.core.display.Javascript object>"
      ]
     },
     "metadata": {},
     "output_type": "display_data"
    },
    {
     "data": {
      "text/html": [
       "<img src=\"data:image/png;base64,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\" width=\"1399.4444815170627\">"
      ],
      "text/plain": [
       "<IPython.core.display.HTML object>"
      ]
     },
     "metadata": {},
     "output_type": "display_data"
    }
   ],
   "source": [
    "vin = torch.load(get_model_path(world), map_location='cpu')\n",
    "\n",
    "labels, s1, s2, obs = get_random_data(test_ds, device)\n",
    "\n",
    "_, v, r_img = vin((s1, s2, obs), k=0)\n",
    "\n",
    "fig = make_world_r_v_image(obs, v)\n"
   ]
  },
  {
   "cell_type": "markdown",
   "metadata": {
    "slideshow": {
     "slide_type": "slide"
    }
   },
   "source": [
    "<center><img src='https://raw.githubusercontent.com/FrancescoSaverioZuppichini/Value-Iteration-Network/master/core/gridworld_28x28/figures.png'></img></center>\n",
    "\n",
    "<center>\n",
    "\n",
    "<center><img src='https://raw.githubusercontent.com/FrancescoSaverioZuppichini/Value-Iteration-Network/master/core/gridworld_28x28/animation.gif'></img></center>\n"
   ]
  },
  {
   "cell_type": "markdown",
   "metadata": {
    "slideshow": {
     "slide_type": "fragment"
    }
   },
   "source": [
    "https://github.com/FrancescoSaverioZuppichini/Value-Iteration-Network"
   ]
  },
  {
   "cell_type": "code",
   "execution_count": 66,
   "metadata": {
    "slideshow": {
     "slide_type": "slide"
    }
   },
   "outputs": [
    {
     "name": "stdout",
     "output_type": "stream",
     "text": [
      "Thank you\n"
     ]
    }
   ],
   "source": [
    "print('Thank you')"
   ]
  }
 ],
 "metadata": {
  "celltoolbar": "Slideshow",
  "kernelspec": {
   "display_name": "Python 3",
   "language": "python",
   "name": "python3"
  },
  "language_info": {
   "codemirror_mode": {
    "name": "ipython",
    "version": 3
   },
   "file_extension": ".py",
   "mimetype": "text/x-python",
   "name": "python",
   "nbconvert_exporter": "python",
   "pygments_lexer": "ipython3",
   "version": "3.6.5"
  },
  "rise": {
   "enable_chalkboard": true
  }
 },
 "nbformat": 4,
 "nbformat_minor": 2
}
