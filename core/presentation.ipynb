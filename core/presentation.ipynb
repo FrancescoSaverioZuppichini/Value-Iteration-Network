{
 "cells": [
  {
   "cell_type": "markdown",
   "metadata": {
    "slideshow": {
     "slide_type": "slide"
    }
   },
   "source": [
    "# Value Iteration Networks\n",
    "## Francesco Saverio Zuppichini\n",
    "\n",
    "*Authors: Aviv Tamar, Yi Wu, Garrett Thomas, Sergey Levine, and Pieter Abbeel*"
   ]
  },
  {
   "cell_type": "markdown",
   "metadata": {
    "slideshow": {
     "slide_type": "slide"
    }
   },
   "source": [
    "# Value Iteration Networks\n",
    "![title](https://raw.githubusercontent.com/FrancescoSaverioZuppichini/Value-Iteration-Network/master/resources/vin.png)\n",
    "\n",
    "Problem: *Planning* not able to generalise unseen domains \n",
    "\n",
    "Solution: A module able to **learn** to plan"
   ]
  },
  {
   "cell_type": "markdown",
   "metadata": {
    "slideshow": {
     "slide_type": "slide"
    }
   },
   "source": [
    "# Recap"
   ]
  },
  {
   "cell_type": "markdown",
   "metadata": {
    "slideshow": {
     "slide_type": "subslide"
    }
   },
   "source": [
    "### Markov Decision Process\n",
    "\n",
    "is a 5-tuple $(S, A, P, R, \\gamma)$ where:\n",
    "\n",
    "$$\n",
    "\\begin{equation}\n",
    "        \\begin{array}{l}\n",
    "         \\text{finite set of states:} \\\\\n",
    "                s \\in S \\\\\n",
    "         \\text{finite set of actions:} \\\\\n",
    "        a \\in A \\\\\n",
    "                 \\text{state transition probabilities:} \\\\\n",
    "        p(s' | s, a) = Pr \\{S_{t + 1} = s' | S_t = s, A_t = a \\} \\\\\n",
    "                \\text{expected reward for state-action-nexstate:}\\\\\n",
    "        r(s',s, a) = \\mathbb{E}[ R_{t + 1} | S_{t + 1} = s',  S_t = s, A_t = a ]  \\\\\n",
    "        \\end{array}\n",
    "\\end{equation}\n",
    "$$"
   ]
  },
  {
   "cell_type": "markdown",
   "metadata": {
    "slideshow": {
     "slide_type": "subslide"
    }
   },
   "source": [
    "### Reward\n",
    "\n",
    "$$G_t = \\sum_{k = 0}^H \\gamma^kr_{t + k + 1}$$"
   ]
  },
  {
   "cell_type": "markdown",
   "metadata": {
    "slideshow": {
     "slide_type": "subslide"
    }
   },
   "source": [
    "### Value Function\n",
    "\n",
    "*how good* is to be in a state\n",
    "\n",
    "$$\n",
    "V_{\\pi}(s) = \\mathbb{E}[G_t | S_t = s]\n",
    "$$"
   ]
  },
  {
   "cell_type": "markdown",
   "metadata": {
    "slideshow": {
     "slide_type": "fragment"
    }
   },
   "source": [
    "#### Bellman Equation\n",
    "\n",
    "**recursive** relation\n",
    "\n",
    "$$\\begin{equation}\n",
    "\\begin{array}{l l}\n",
    "V_{\\pi}(s) & = \\mathbb{E}_{\\pi}\\begin{bmatrix}G_t | S_t = s\\end{bmatrix} \\\\\n",
    "\\\\\n",
    "& =  \\mathbb{E}_{\\pi}\\begin{bmatrix}\\sum\\limits_{k = 0}^{\\infty} \\gamma^kR_{t + k + 1} | S_t = s \\end{bmatrix} \\\\\n",
    "\\\\\n",
    "...\n",
    "\\\\\n",
    "& = \\sum\\limits_{a} \\pi(a | s) \\sum\\limits_{s'}\\sum\\limits_{r} p(s', r | s, a)\\begin{bmatrix} r + \\gamma V_{\\pi}(s')\n",
    "\\end{bmatrix}\n",
    "\\end{array}\n",
    "\\label{eq: value_bellman}\n",
    "\\end{equation}$$"
   ]
  },
  {
   "cell_type": "markdown",
   "metadata": {
    "slideshow": {
     "slide_type": "fragment"
    }
   },
   "source": [
    "Thus we can **PLAN**"
   ]
  },
  {
   "cell_type": "markdown",
   "metadata": {
    "slideshow": {
     "slide_type": "slide"
    }
   },
   "source": [
    "# Value Iteration\n",
    "\n",
    "![alt](https://raw.githubusercontent.com/FrancescoSaverioZuppichini/Value-Iteration-Network/master/resources/value_iteration.jpg)\n",
    "\n",
    "Does not *generalise*\n"
   ]
  },
  {
   "cell_type": "markdown",
   "metadata": {
    "slideshow": {
     "slide_type": "slide"
    }
   },
   "source": [
    "If we think about \n",
    "\n",
    "$$\n",
    "V_{n + 1}(s) = max_aQ_n(s,a) \\quad \\forall s\n",
    "$$\n",
    "\n",
    "where\n",
    "\n",
    "$$\n",
    "Q_n(s,a) = R(s,a) + \\gamma \\sum_{s'}P(s'|s,a)V_n(s')\n",
    "$$\n",
    "\n",
    "It is very similar to a **convolutional** and **max pooling** operation\n",
    "\n",
    "\n",
    "*paper notation*\n"
   ]
  },
  {
   "cell_type": "markdown",
   "metadata": {
    "slideshow": {
     "slide_type": "slide"
    }
   },
   "source": [
    "If we think about \n",
    "\n",
    "$$\n",
    "V_{n + 1}(s) = \\underbrace{max_a}_{\\text Max Pooling}Q_n(s,a) \\quad \\forall s\n",
    "$$\n",
    "\n",
    "where\n",
    "\n",
    "$$\n",
    "Q_n(s,a) = R(s,a) + \\underbrace{\\gamma \\sum_{s'}P(s'|s,a)}_{\\text{Convolution}}V_n(s')\n",
    "$$\n"
   ]
  },
  {
   "cell_type": "markdown",
   "metadata": {
    "slideshow": {
     "slide_type": "fragment"
    }
   },
   "source": [
    "Convolution\n",
    "\n",
    "\n",
    "$$\n",
    "h_{l', i', j'} = \\sigma(\\sum_{l,i,j} W^{l'}_{l,i,j}X_{l, i'-i, j' - j})\n",
    "$$\n",
    "\n",
    "Max Pooling\n",
    "\n",
    "$$\n",
    "h_{l, i, j} ^{\\text{maxpool}} - max_{l', j' \\in N(i,j)} h_{l,i',j'}\n",
    "$$"
   ]
  },
  {
   "cell_type": "markdown",
   "metadata": {
    "slideshow": {
     "slide_type": "subslide"
    }
   },
   "source": [
    "Thus we can represent Value Iteration with a **CNN**"
   ]
  },
  {
   "cell_type": "markdown",
   "metadata": {
    "slideshow": {
     "slide_type": "slide"
    }
   },
   "source": [
    "# Value Iteration Network\n",
    "\n",
    "![alt](https://raw.githubusercontent.com/FrancescoSaverioZuppichini/Value-Iteration-Network/master/resources/3.jpg)\n",
    "\n",
    "Assume there is a un uknowm $\\bar M$ and add the solution to $\\pi$ policy of $M$\n",
    "\n",
    "\n",
    "We want to learn $ \\bar R = f_r(\\phi(s)) $ and $ \\bar P = f_P(\\phi(s)) $ "
   ]
  },
  {
   "cell_type": "markdown",
   "metadata": {
    "slideshow": {
     "slide_type": "notes"
    }
   },
   "source": [
    "R maps an image of the domain to a high reward at the goal and negative near an obstacle\n",
    "\n",
    "P encodes deterministic movement in the grid-woirld that do not depend on the observations"
   ]
  },
  {
   "cell_type": "markdown",
   "metadata": {
    "slideshow": {
     "slide_type": "slide"
    }
   },
   "source": [
    "Notice that\n",
    "\n",
    "$$ \\bar \\pi^* = argmax_{\\bar a} \\bar R (\\bar s, \\bar a) + \\gamma  \\sum_{\\bar s'} \\bar P (\\bar s'| \\bar s, \\bar a) \\bar V^*(\\bar s') $$\n",
    "\n",
    "**local connectivity** the states with $\\bar P (\\bar s'| \\bar s, \\bar a)$ small subset of $\\bar S$. **Attention**\n",
    "\n",
    "![alt](https://raw.githubusercontent.com/FrancescoSaverioZuppichini/Value-Iteration-Network/master/resources/attention.jpg)\n"
   ]
  },
  {
   "cell_type": "markdown",
   "metadata": {
    "slideshow": {
     "slide_type": "slide"
    }
   },
   "source": [
    "# Value Iteration Module\n",
    "![alt](https://raw.githubusercontent.com/FrancescoSaverioZuppichini/Value-Iteration-Network/master/resources/4.jpg)\n",
    "\n",
    "$$\n",
    "Q_{\\bar a, i', j'} = \\sum_{l, i, j} W^{\\bar a}_{l,i,j} \\bar R_{l, i' - i, j' - j}\n",
    "$$"
   ]
  },
  {
   "cell_type": "markdown",
   "metadata": {
    "slideshow": {
     "slide_type": "subslide"
    }
   },
   "source": [
    "![alt](https://raw.githubusercontent.com/FrancescoSaverioZuppichini/Value-Iteration-Network/master/resources/1.jpg)\n",
    "\n",
    "new $V$ stacked ro $\\bar R$ and feed again"
   ]
  },
  {
   "cell_type": "markdown",
   "metadata": {
    "slideshow": {
     "slide_type": "slide"
    }
   },
   "source": [
    "# Experiments"
   ]
  },
  {
   "cell_type": "markdown",
   "metadata": {
    "slideshow": {
     "slide_type": "slide"
    }
   },
   "source": [
    "## Grid World\n",
    "\n",
    "![alt](https://raw.githubusercontent.com/FrancescoSaverioZuppichini/Value-Iteration-Network/master/resources/6.jpg)\n",
    "\n",
    "\n",
    "![alt](https://raw.githubusercontent.com/FrancescoSaverioZuppichini/Value-Iteration-Network/master/resources/7.jpg)\n",
    "\n",
    "\n",
    "![alt](https://raw.githubusercontent.com/FrancescoSaverioZuppichini/Value-Iteration-Network/master/resources/vis.png)\n"
   ]
  },
  {
   "cell_type": "markdown",
   "metadata": {
    "slideshow": {
     "slide_type": "subslide"
    }
   },
   "source": [
    "## Architecture\n",
    "\n",
    "![alt](https://raw.githubusercontent.com/FrancescoSaverioZuppichini/Value-Iteration-Network/master/resources/14.png)"
   ]
  },
  {
   "cell_type": "markdown",
   "metadata": {
    "slideshow": {
     "slide_type": "slide"
    }
   },
   "source": [
    "# Mars Rover Navigation\n",
    "\n",
    "![alt](https://raw.githubusercontent.com/FrancescoSaverioZuppichini/Value-Iteration-Network/master/resources/12.jpg)\n",
    "\n",
    "\n",
    "VIN learn to plan *from natural image input* \n",
    "\n",
    "elevation/obstacles data not a part of the input\n",
    "\n",
    "$84.8%$ success rate"
   ]
  },
  {
   "cell_type": "markdown",
   "metadata": {
    "slideshow": {
     "slide_type": "slide"
    }
   },
   "source": [
    "# Continuous Control\n",
    "![alt](https://raw.githubusercontent.com/FrancescoSaverioZuppichini/Value-Iteration-Network/master/resources/10.jpg)\n",
    "\n",
    "\n",
    "Continuous states and continuous actions\n",
    "\n",
    "Grid size 28x28\n",
    "\n",
    "VIN train on coarse grid representation"
   ]
  },
  {
   "cell_type": "markdown",
   "metadata": {
    "slideshow": {
     "slide_type": "slide"
    }
   },
   "source": [
    "# Conclusion\n",
    "\n",
    "scalable architecture \n",
    "\n",
    "It is able to learn!\n",
    "\n",
    "easy to implement"
   ]
  },
  {
   "cell_type": "markdown",
   "metadata": {
    "slideshow": {
     "slide_type": "slide"
    }
   },
   "source": [
    "#### Does it work?"
   ]
  },
  {
   "cell_type": "code",
   "execution_count": 40,
   "metadata": {
    "slideshow": {
     "slide_type": "subslide"
    }
   },
   "outputs": [],
   "source": [
    "import torch\n",
    "\n",
    "import matplotlib.pyplot as plt\n",
    "\n",
    "from torch.utils.data import DataLoader\n",
    "\n",
    "from datasets import GridWorldDataset\n",
    "from config import *\n",
    "from utils import *\n",
    "\n",
    "%matplotlib notebook \n",
    "plt.rcParams['figure.figsize'] = (14,4)"
   ]
  },
  {
   "cell_type": "code",
   "execution_count": 43,
   "metadata": {
    "slideshow": {
     "slide_type": "subslide"
    }
   },
   "outputs": [],
   "source": [
    "world = WORLD_16X16\n",
    "\n",
    "test_ds = GridWorldDataset(*world, train=False)"
   ]
  },
  {
   "cell_type": "code",
   "execution_count": 44,
   "metadata": {
    "scrolled": false,
    "slideshow": {
     "slide_type": "slide"
    }
   },
   "outputs": [
    {
     "name": "stderr",
     "output_type": "stream",
     "text": [
      "/usr/local/lib/python3.6/site-packages/torch/serialization.py:425: SourceChangeWarning: source code of class 'model.q' has changed. you can retrieve the original source code by accessing the object's source attribute or set `torch.nn.Module.dump_patches = True` and use the patch tool to revert the changes.\n",
      "  warnings.warn(msg, SourceChangeWarning)\n"
     ]
    },
    {
     "data": {
      "application/javascript": [
       "/* Put everything inside the global mpl namespace */\n",
       "window.mpl = {};\n",
       "\n",
       "\n",
       "mpl.get_websocket_type = function() {\n",
       "    if (typeof(WebSocket) !== 'undefined') {\n",
       "        return WebSocket;\n",
       "    } else if (typeof(MozWebSocket) !== 'undefined') {\n",
       "        return MozWebSocket;\n",
       "    } else {\n",
       "        alert('Your browser does not have WebSocket support.' +\n",
       "              'Please try Chrome, Safari or Firefox ≥ 6. ' +\n",
       "              'Firefox 4 and 5 are also supported but you ' +\n",
       "              'have to enable WebSockets in about:config.');\n",
       "    };\n",
       "}\n",
       "\n",
       "mpl.figure = function(figure_id, websocket, ondownload, parent_element) {\n",
       "    this.id = figure_id;\n",
       "\n",
       "    this.ws = websocket;\n",
       "\n",
       "    this.supports_binary = (this.ws.binaryType != undefined);\n",
       "\n",
       "    if (!this.supports_binary) {\n",
       "        var warnings = document.getElementById(\"mpl-warnings\");\n",
       "        if (warnings) {\n",
       "            warnings.style.display = 'block';\n",
       "            warnings.textContent = (\n",
       "                \"This browser does not support binary websocket messages. \" +\n",
       "                    \"Performance may be slow.\");\n",
       "        }\n",
       "    }\n",
       "\n",
       "    this.imageObj = new Image();\n",
       "\n",
       "    this.context = undefined;\n",
       "    this.message = undefined;\n",
       "    this.canvas = undefined;\n",
       "    this.rubberband_canvas = undefined;\n",
       "    this.rubberband_context = undefined;\n",
       "    this.format_dropdown = undefined;\n",
       "\n",
       "    this.image_mode = 'full';\n",
       "\n",
       "    this.root = $('<div/>');\n",
       "    this._root_extra_style(this.root)\n",
       "    this.root.attr('style', 'display: inline-block');\n",
       "\n",
       "    $(parent_element).append(this.root);\n",
       "\n",
       "    this._init_header(this);\n",
       "    this._init_canvas(this);\n",
       "    this._init_toolbar(this);\n",
       "\n",
       "    var fig = this;\n",
       "\n",
       "    this.waiting = false;\n",
       "\n",
       "    this.ws.onopen =  function () {\n",
       "            fig.send_message(\"supports_binary\", {value: fig.supports_binary});\n",
       "            fig.send_message(\"send_image_mode\", {});\n",
       "            if (mpl.ratio != 1) {\n",
       "                fig.send_message(\"set_dpi_ratio\", {'dpi_ratio': mpl.ratio});\n",
       "            }\n",
       "            fig.send_message(\"refresh\", {});\n",
       "        }\n",
       "\n",
       "    this.imageObj.onload = function() {\n",
       "            if (fig.image_mode == 'full') {\n",
       "                // Full images could contain transparency (where diff images\n",
       "                // almost always do), so we need to clear the canvas so that\n",
       "                // there is no ghosting.\n",
       "                fig.context.clearRect(0, 0, fig.canvas.width, fig.canvas.height);\n",
       "            }\n",
       "            fig.context.drawImage(fig.imageObj, 0, 0);\n",
       "        };\n",
       "\n",
       "    this.imageObj.onunload = function() {\n",
       "        this.ws.close();\n",
       "    }\n",
       "\n",
       "    this.ws.onmessage = this._make_on_message_function(this);\n",
       "\n",
       "    this.ondownload = ondownload;\n",
       "}\n",
       "\n",
       "mpl.figure.prototype._init_header = function() {\n",
       "    var titlebar = $(\n",
       "        '<div class=\"ui-dialog-titlebar ui-widget-header ui-corner-all ' +\n",
       "        'ui-helper-clearfix\"/>');\n",
       "    var titletext = $(\n",
       "        '<div class=\"ui-dialog-title\" style=\"width: 100%; ' +\n",
       "        'text-align: center; padding: 3px;\"/>');\n",
       "    titlebar.append(titletext)\n",
       "    this.root.append(titlebar);\n",
       "    this.header = titletext[0];\n",
       "}\n",
       "\n",
       "\n",
       "\n",
       "mpl.figure.prototype._canvas_extra_style = function(canvas_div) {\n",
       "\n",
       "}\n",
       "\n",
       "\n",
       "mpl.figure.prototype._root_extra_style = function(canvas_div) {\n",
       "\n",
       "}\n",
       "\n",
       "mpl.figure.prototype._init_canvas = function() {\n",
       "    var fig = this;\n",
       "\n",
       "    var canvas_div = $('<div/>');\n",
       "\n",
       "    canvas_div.attr('style', 'position: relative; clear: both; outline: 0');\n",
       "\n",
       "    function canvas_keyboard_event(event) {\n",
       "        return fig.key_event(event, event['data']);\n",
       "    }\n",
       "\n",
       "    canvas_div.keydown('key_press', canvas_keyboard_event);\n",
       "    canvas_div.keyup('key_release', canvas_keyboard_event);\n",
       "    this.canvas_div = canvas_div\n",
       "    this._canvas_extra_style(canvas_div)\n",
       "    this.root.append(canvas_div);\n",
       "\n",
       "    var canvas = $('<canvas/>');\n",
       "    canvas.addClass('mpl-canvas');\n",
       "    canvas.attr('style', \"left: 0; top: 0; z-index: 0; outline: 0\")\n",
       "\n",
       "    this.canvas = canvas[0];\n",
       "    this.context = canvas[0].getContext(\"2d\");\n",
       "\n",
       "    var backingStore = this.context.backingStorePixelRatio ||\n",
       "\tthis.context.webkitBackingStorePixelRatio ||\n",
       "\tthis.context.mozBackingStorePixelRatio ||\n",
       "\tthis.context.msBackingStorePixelRatio ||\n",
       "\tthis.context.oBackingStorePixelRatio ||\n",
       "\tthis.context.backingStorePixelRatio || 1;\n",
       "\n",
       "    mpl.ratio = (window.devicePixelRatio || 1) / backingStore;\n",
       "\n",
       "    var rubberband = $('<canvas/>');\n",
       "    rubberband.attr('style', \"position: absolute; left: 0; top: 0; z-index: 1;\")\n",
       "\n",
       "    var pass_mouse_events = true;\n",
       "\n",
       "    canvas_div.resizable({\n",
       "        start: function(event, ui) {\n",
       "            pass_mouse_events = false;\n",
       "        },\n",
       "        resize: function(event, ui) {\n",
       "            fig.request_resize(ui.size.width, ui.size.height);\n",
       "        },\n",
       "        stop: function(event, ui) {\n",
       "            pass_mouse_events = true;\n",
       "            fig.request_resize(ui.size.width, ui.size.height);\n",
       "        },\n",
       "    });\n",
       "\n",
       "    function mouse_event_fn(event) {\n",
       "        if (pass_mouse_events)\n",
       "            return fig.mouse_event(event, event['data']);\n",
       "    }\n",
       "\n",
       "    rubberband.mousedown('button_press', mouse_event_fn);\n",
       "    rubberband.mouseup('button_release', mouse_event_fn);\n",
       "    // Throttle sequential mouse events to 1 every 20ms.\n",
       "    rubberband.mousemove('motion_notify', mouse_event_fn);\n",
       "\n",
       "    rubberband.mouseenter('figure_enter', mouse_event_fn);\n",
       "    rubberband.mouseleave('figure_leave', mouse_event_fn);\n",
       "\n",
       "    canvas_div.on(\"wheel\", function (event) {\n",
       "        event = event.originalEvent;\n",
       "        event['data'] = 'scroll'\n",
       "        if (event.deltaY < 0) {\n",
       "            event.step = 1;\n",
       "        } else {\n",
       "            event.step = -1;\n",
       "        }\n",
       "        mouse_event_fn(event);\n",
       "    });\n",
       "\n",
       "    canvas_div.append(canvas);\n",
       "    canvas_div.append(rubberband);\n",
       "\n",
       "    this.rubberband = rubberband;\n",
       "    this.rubberband_canvas = rubberband[0];\n",
       "    this.rubberband_context = rubberband[0].getContext(\"2d\");\n",
       "    this.rubberband_context.strokeStyle = \"#000000\";\n",
       "\n",
       "    this._resize_canvas = function(width, height) {\n",
       "        // Keep the size of the canvas, canvas container, and rubber band\n",
       "        // canvas in synch.\n",
       "        canvas_div.css('width', width)\n",
       "        canvas_div.css('height', height)\n",
       "\n",
       "        canvas.attr('width', width * mpl.ratio);\n",
       "        canvas.attr('height', height * mpl.ratio);\n",
       "        canvas.attr('style', 'width: ' + width + 'px; height: ' + height + 'px;');\n",
       "\n",
       "        rubberband.attr('width', width);\n",
       "        rubberband.attr('height', height);\n",
       "    }\n",
       "\n",
       "    // Set the figure to an initial 600x600px, this will subsequently be updated\n",
       "    // upon first draw.\n",
       "    this._resize_canvas(600, 600);\n",
       "\n",
       "    // Disable right mouse context menu.\n",
       "    $(this.rubberband_canvas).bind(\"contextmenu\",function(e){\n",
       "        return false;\n",
       "    });\n",
       "\n",
       "    function set_focus () {\n",
       "        canvas.focus();\n",
       "        canvas_div.focus();\n",
       "    }\n",
       "\n",
       "    window.setTimeout(set_focus, 100);\n",
       "}\n",
       "\n",
       "mpl.figure.prototype._init_toolbar = function() {\n",
       "    var fig = this;\n",
       "\n",
       "    var nav_element = $('<div/>')\n",
       "    nav_element.attr('style', 'width: 100%');\n",
       "    this.root.append(nav_element);\n",
       "\n",
       "    // Define a callback function for later on.\n",
       "    function toolbar_event(event) {\n",
       "        return fig.toolbar_button_onclick(event['data']);\n",
       "    }\n",
       "    function toolbar_mouse_event(event) {\n",
       "        return fig.toolbar_button_onmouseover(event['data']);\n",
       "    }\n",
       "\n",
       "    for(var toolbar_ind in mpl.toolbar_items) {\n",
       "        var name = mpl.toolbar_items[toolbar_ind][0];\n",
       "        var tooltip = mpl.toolbar_items[toolbar_ind][1];\n",
       "        var image = mpl.toolbar_items[toolbar_ind][2];\n",
       "        var method_name = mpl.toolbar_items[toolbar_ind][3];\n",
       "\n",
       "        if (!name) {\n",
       "            // put a spacer in here.\n",
       "            continue;\n",
       "        }\n",
       "        var button = $('<button/>');\n",
       "        button.addClass('ui-button ui-widget ui-state-default ui-corner-all ' +\n",
       "                        'ui-button-icon-only');\n",
       "        button.attr('role', 'button');\n",
       "        button.attr('aria-disabled', 'false');\n",
       "        button.click(method_name, toolbar_event);\n",
       "        button.mouseover(tooltip, toolbar_mouse_event);\n",
       "\n",
       "        var icon_img = $('<span/>');\n",
       "        icon_img.addClass('ui-button-icon-primary ui-icon');\n",
       "        icon_img.addClass(image);\n",
       "        icon_img.addClass('ui-corner-all');\n",
       "\n",
       "        var tooltip_span = $('<span/>');\n",
       "        tooltip_span.addClass('ui-button-text');\n",
       "        tooltip_span.html(tooltip);\n",
       "\n",
       "        button.append(icon_img);\n",
       "        button.append(tooltip_span);\n",
       "\n",
       "        nav_element.append(button);\n",
       "    }\n",
       "\n",
       "    var fmt_picker_span = $('<span/>');\n",
       "\n",
       "    var fmt_picker = $('<select/>');\n",
       "    fmt_picker.addClass('mpl-toolbar-option ui-widget ui-widget-content');\n",
       "    fmt_picker_span.append(fmt_picker);\n",
       "    nav_element.append(fmt_picker_span);\n",
       "    this.format_dropdown = fmt_picker[0];\n",
       "\n",
       "    for (var ind in mpl.extensions) {\n",
       "        var fmt = mpl.extensions[ind];\n",
       "        var option = $(\n",
       "            '<option/>', {selected: fmt === mpl.default_extension}).html(fmt);\n",
       "        fmt_picker.append(option)\n",
       "    }\n",
       "\n",
       "    // Add hover states to the ui-buttons\n",
       "    $( \".ui-button\" ).hover(\n",
       "        function() { $(this).addClass(\"ui-state-hover\");},\n",
       "        function() { $(this).removeClass(\"ui-state-hover\");}\n",
       "    );\n",
       "\n",
       "    var status_bar = $('<span class=\"mpl-message\"/>');\n",
       "    nav_element.append(status_bar);\n",
       "    this.message = status_bar[0];\n",
       "}\n",
       "\n",
       "mpl.figure.prototype.request_resize = function(x_pixels, y_pixels) {\n",
       "    // Request matplotlib to resize the figure. Matplotlib will then trigger a resize in the client,\n",
       "    // which will in turn request a refresh of the image.\n",
       "    this.send_message('resize', {'width': x_pixels, 'height': y_pixels});\n",
       "}\n",
       "\n",
       "mpl.figure.prototype.send_message = function(type, properties) {\n",
       "    properties['type'] = type;\n",
       "    properties['figure_id'] = this.id;\n",
       "    this.ws.send(JSON.stringify(properties));\n",
       "}\n",
       "\n",
       "mpl.figure.prototype.send_draw_message = function() {\n",
       "    if (!this.waiting) {\n",
       "        this.waiting = true;\n",
       "        this.ws.send(JSON.stringify({type: \"draw\", figure_id: this.id}));\n",
       "    }\n",
       "}\n",
       "\n",
       "\n",
       "mpl.figure.prototype.handle_save = function(fig, msg) {\n",
       "    var format_dropdown = fig.format_dropdown;\n",
       "    var format = format_dropdown.options[format_dropdown.selectedIndex].value;\n",
       "    fig.ondownload(fig, format);\n",
       "}\n",
       "\n",
       "\n",
       "mpl.figure.prototype.handle_resize = function(fig, msg) {\n",
       "    var size = msg['size'];\n",
       "    if (size[0] != fig.canvas.width || size[1] != fig.canvas.height) {\n",
       "        fig._resize_canvas(size[0], size[1]);\n",
       "        fig.send_message(\"refresh\", {});\n",
       "    };\n",
       "}\n",
       "\n",
       "mpl.figure.prototype.handle_rubberband = function(fig, msg) {\n",
       "    var x0 = msg['x0'] / mpl.ratio;\n",
       "    var y0 = (fig.canvas.height - msg['y0']) / mpl.ratio;\n",
       "    var x1 = msg['x1'] / mpl.ratio;\n",
       "    var y1 = (fig.canvas.height - msg['y1']) / mpl.ratio;\n",
       "    x0 = Math.floor(x0) + 0.5;\n",
       "    y0 = Math.floor(y0) + 0.5;\n",
       "    x1 = Math.floor(x1) + 0.5;\n",
       "    y1 = Math.floor(y1) + 0.5;\n",
       "    var min_x = Math.min(x0, x1);\n",
       "    var min_y = Math.min(y0, y1);\n",
       "    var width = Math.abs(x1 - x0);\n",
       "    var height = Math.abs(y1 - y0);\n",
       "\n",
       "    fig.rubberband_context.clearRect(\n",
       "        0, 0, fig.canvas.width, fig.canvas.height);\n",
       "\n",
       "    fig.rubberband_context.strokeRect(min_x, min_y, width, height);\n",
       "}\n",
       "\n",
       "mpl.figure.prototype.handle_figure_label = function(fig, msg) {\n",
       "    // Updates the figure title.\n",
       "    fig.header.textContent = msg['label'];\n",
       "}\n",
       "\n",
       "mpl.figure.prototype.handle_cursor = function(fig, msg) {\n",
       "    var cursor = msg['cursor'];\n",
       "    switch(cursor)\n",
       "    {\n",
       "    case 0:\n",
       "        cursor = 'pointer';\n",
       "        break;\n",
       "    case 1:\n",
       "        cursor = 'default';\n",
       "        break;\n",
       "    case 2:\n",
       "        cursor = 'crosshair';\n",
       "        break;\n",
       "    case 3:\n",
       "        cursor = 'move';\n",
       "        break;\n",
       "    }\n",
       "    fig.rubberband_canvas.style.cursor = cursor;\n",
       "}\n",
       "\n",
       "mpl.figure.prototype.handle_message = function(fig, msg) {\n",
       "    fig.message.textContent = msg['message'];\n",
       "}\n",
       "\n",
       "mpl.figure.prototype.handle_draw = function(fig, msg) {\n",
       "    // Request the server to send over a new figure.\n",
       "    fig.send_draw_message();\n",
       "}\n",
       "\n",
       "mpl.figure.prototype.handle_image_mode = function(fig, msg) {\n",
       "    fig.image_mode = msg['mode'];\n",
       "}\n",
       "\n",
       "mpl.figure.prototype.updated_canvas_event = function() {\n",
       "    // Called whenever the canvas gets updated.\n",
       "    this.send_message(\"ack\", {});\n",
       "}\n",
       "\n",
       "// A function to construct a web socket function for onmessage handling.\n",
       "// Called in the figure constructor.\n",
       "mpl.figure.prototype._make_on_message_function = function(fig) {\n",
       "    return function socket_on_message(evt) {\n",
       "        if (evt.data instanceof Blob) {\n",
       "            /* FIXME: We get \"Resource interpreted as Image but\n",
       "             * transferred with MIME type text/plain:\" errors on\n",
       "             * Chrome.  But how to set the MIME type?  It doesn't seem\n",
       "             * to be part of the websocket stream */\n",
       "            evt.data.type = \"image/png\";\n",
       "\n",
       "            /* Free the memory for the previous frames */\n",
       "            if (fig.imageObj.src) {\n",
       "                (window.URL || window.webkitURL).revokeObjectURL(\n",
       "                    fig.imageObj.src);\n",
       "            }\n",
       "\n",
       "            fig.imageObj.src = (window.URL || window.webkitURL).createObjectURL(\n",
       "                evt.data);\n",
       "            fig.updated_canvas_event();\n",
       "            fig.waiting = false;\n",
       "            return;\n",
       "        }\n",
       "        else if (typeof evt.data === 'string' && evt.data.slice(0, 21) == \"data:image/png;base64\") {\n",
       "            fig.imageObj.src = evt.data;\n",
       "            fig.updated_canvas_event();\n",
       "            fig.waiting = false;\n",
       "            return;\n",
       "        }\n",
       "\n",
       "        var msg = JSON.parse(evt.data);\n",
       "        var msg_type = msg['type'];\n",
       "\n",
       "        // Call the  \"handle_{type}\" callback, which takes\n",
       "        // the figure and JSON message as its only arguments.\n",
       "        try {\n",
       "            var callback = fig[\"handle_\" + msg_type];\n",
       "        } catch (e) {\n",
       "            console.log(\"No handler for the '\" + msg_type + \"' message type: \", msg);\n",
       "            return;\n",
       "        }\n",
       "\n",
       "        if (callback) {\n",
       "            try {\n",
       "                // console.log(\"Handling '\" + msg_type + \"' message: \", msg);\n",
       "                callback(fig, msg);\n",
       "            } catch (e) {\n",
       "                console.log(\"Exception inside the 'handler_\" + msg_type + \"' callback:\", e, e.stack, msg);\n",
       "            }\n",
       "        }\n",
       "    };\n",
       "}\n",
       "\n",
       "// from http://stackoverflow.com/questions/1114465/getting-mouse-location-in-canvas\n",
       "mpl.findpos = function(e) {\n",
       "    //this section is from http://www.quirksmode.org/js/events_properties.html\n",
       "    var targ;\n",
       "    if (!e)\n",
       "        e = window.event;\n",
       "    if (e.target)\n",
       "        targ = e.target;\n",
       "    else if (e.srcElement)\n",
       "        targ = e.srcElement;\n",
       "    if (targ.nodeType == 3) // defeat Safari bug\n",
       "        targ = targ.parentNode;\n",
       "\n",
       "    // jQuery normalizes the pageX and pageY\n",
       "    // pageX,Y are the mouse positions relative to the document\n",
       "    // offset() returns the position of the element relative to the document\n",
       "    var x = e.pageX - $(targ).offset().left;\n",
       "    var y = e.pageY - $(targ).offset().top;\n",
       "\n",
       "    return {\"x\": x, \"y\": y};\n",
       "};\n",
       "\n",
       "/*\n",
       " * return a copy of an object with only non-object keys\n",
       " * we need this to avoid circular references\n",
       " * http://stackoverflow.com/a/24161582/3208463\n",
       " */\n",
       "function simpleKeys (original) {\n",
       "  return Object.keys(original).reduce(function (obj, key) {\n",
       "    if (typeof original[key] !== 'object')\n",
       "        obj[key] = original[key]\n",
       "    return obj;\n",
       "  }, {});\n",
       "}\n",
       "\n",
       "mpl.figure.prototype.mouse_event = function(event, name) {\n",
       "    var canvas_pos = mpl.findpos(event)\n",
       "\n",
       "    if (name === 'button_press')\n",
       "    {\n",
       "        this.canvas.focus();\n",
       "        this.canvas_div.focus();\n",
       "    }\n",
       "\n",
       "    var x = canvas_pos.x * mpl.ratio;\n",
       "    var y = canvas_pos.y * mpl.ratio;\n",
       "\n",
       "    this.send_message(name, {x: x, y: y, button: event.button,\n",
       "                             step: event.step,\n",
       "                             guiEvent: simpleKeys(event)});\n",
       "\n",
       "    /* This prevents the web browser from automatically changing to\n",
       "     * the text insertion cursor when the button is pressed.  We want\n",
       "     * to control all of the cursor setting manually through the\n",
       "     * 'cursor' event from matplotlib */\n",
       "    event.preventDefault();\n",
       "    return false;\n",
       "}\n",
       "\n",
       "mpl.figure.prototype._key_event_extra = function(event, name) {\n",
       "    // Handle any extra behaviour associated with a key event\n",
       "}\n",
       "\n",
       "mpl.figure.prototype.key_event = function(event, name) {\n",
       "\n",
       "    // Prevent repeat events\n",
       "    if (name == 'key_press')\n",
       "    {\n",
       "        if (event.which === this._key)\n",
       "            return;\n",
       "        else\n",
       "            this._key = event.which;\n",
       "    }\n",
       "    if (name == 'key_release')\n",
       "        this._key = null;\n",
       "\n",
       "    var value = '';\n",
       "    if (event.ctrlKey && event.which != 17)\n",
       "        value += \"ctrl+\";\n",
       "    if (event.altKey && event.which != 18)\n",
       "        value += \"alt+\";\n",
       "    if (event.shiftKey && event.which != 16)\n",
       "        value += \"shift+\";\n",
       "\n",
       "    value += 'k';\n",
       "    value += event.which.toString();\n",
       "\n",
       "    this._key_event_extra(event, name);\n",
       "\n",
       "    this.send_message(name, {key: value,\n",
       "                             guiEvent: simpleKeys(event)});\n",
       "    return false;\n",
       "}\n",
       "\n",
       "mpl.figure.prototype.toolbar_button_onclick = function(name) {\n",
       "    if (name == 'download') {\n",
       "        this.handle_save(this, null);\n",
       "    } else {\n",
       "        this.send_message(\"toolbar_button\", {name: name});\n",
       "    }\n",
       "};\n",
       "\n",
       "mpl.figure.prototype.toolbar_button_onmouseover = function(tooltip) {\n",
       "    this.message.textContent = tooltip;\n",
       "};\n",
       "mpl.toolbar_items = [[\"Home\", \"Reset original view\", \"fa fa-home icon-home\", \"home\"], [\"Back\", \"Back to  previous view\", \"fa fa-arrow-left icon-arrow-left\", \"back\"], [\"Forward\", \"Forward to next view\", \"fa fa-arrow-right icon-arrow-right\", \"forward\"], [\"\", \"\", \"\", \"\"], [\"Pan\", \"Pan axes with left mouse, zoom with right\", \"fa fa-arrows icon-move\", \"pan\"], [\"Zoom\", \"Zoom to rectangle\", \"fa fa-square-o icon-check-empty\", \"zoom\"], [\"\", \"\", \"\", \"\"], [\"Download\", \"Download plot\", \"fa fa-floppy-o icon-save\", \"download\"]];\n",
       "\n",
       "mpl.extensions = [\"eps\", \"jpeg\", \"pdf\", \"png\", \"ps\", \"raw\", \"svg\", \"tif\"];\n",
       "\n",
       "mpl.default_extension = \"png\";var comm_websocket_adapter = function(comm) {\n",
       "    // Create a \"websocket\"-like object which calls the given IPython comm\n",
       "    // object with the appropriate methods. Currently this is a non binary\n",
       "    // socket, so there is still some room for performance tuning.\n",
       "    var ws = {};\n",
       "\n",
       "    ws.close = function() {\n",
       "        comm.close()\n",
       "    };\n",
       "    ws.send = function(m) {\n",
       "        //console.log('sending', m);\n",
       "        comm.send(m);\n",
       "    };\n",
       "    // Register the callback with on_msg.\n",
       "    comm.on_msg(function(msg) {\n",
       "        //console.log('receiving', msg['content']['data'], msg);\n",
       "        // Pass the mpl event to the overriden (by mpl) onmessage function.\n",
       "        ws.onmessage(msg['content']['data'])\n",
       "    });\n",
       "    return ws;\n",
       "}\n",
       "\n",
       "mpl.mpl_figure_comm = function(comm, msg) {\n",
       "    // This is the function which gets called when the mpl process\n",
       "    // starts-up an IPython Comm through the \"matplotlib\" channel.\n",
       "\n",
       "    var id = msg.content.data.id;\n",
       "    // Get hold of the div created by the display call when the Comm\n",
       "    // socket was opened in Python.\n",
       "    var element = $(\"#\" + id);\n",
       "    var ws_proxy = comm_websocket_adapter(comm)\n",
       "\n",
       "    function ondownload(figure, format) {\n",
       "        window.open(figure.imageObj.src);\n",
       "    }\n",
       "\n",
       "    var fig = new mpl.figure(id, ws_proxy,\n",
       "                           ondownload,\n",
       "                           element.get(0));\n",
       "\n",
       "    // Call onopen now - mpl needs it, as it is assuming we've passed it a real\n",
       "    // web socket which is closed, not our websocket->open comm proxy.\n",
       "    ws_proxy.onopen();\n",
       "\n",
       "    fig.parent_element = element.get(0);\n",
       "    fig.cell_info = mpl.find_output_cell(\"<div id='\" + id + \"'></div>\");\n",
       "    if (!fig.cell_info) {\n",
       "        console.error(\"Failed to find cell for figure\", id, fig);\n",
       "        return;\n",
       "    }\n",
       "\n",
       "    var output_index = fig.cell_info[2]\n",
       "    var cell = fig.cell_info[0];\n",
       "\n",
       "};\n",
       "\n",
       "mpl.figure.prototype.handle_close = function(fig, msg) {\n",
       "    var width = fig.canvas.width/mpl.ratio\n",
       "    fig.root.unbind('remove')\n",
       "\n",
       "    // Update the output cell to use the data from the current canvas.\n",
       "    fig.push_to_output();\n",
       "    var dataURL = fig.canvas.toDataURL();\n",
       "    // Re-enable the keyboard manager in IPython - without this line, in FF,\n",
       "    // the notebook keyboard shortcuts fail.\n",
       "    IPython.keyboard_manager.enable()\n",
       "    $(fig.parent_element).html('<img src=\"' + dataURL + '\" width=\"' + width + '\">');\n",
       "    fig.close_ws(fig, msg);\n",
       "}\n",
       "\n",
       "mpl.figure.prototype.close_ws = function(fig, msg){\n",
       "    fig.send_message('closing', msg);\n",
       "    // fig.ws.close()\n",
       "}\n",
       "\n",
       "mpl.figure.prototype.push_to_output = function(remove_interactive) {\n",
       "    // Turn the data on the canvas into data in the output cell.\n",
       "    var width = this.canvas.width/mpl.ratio\n",
       "    var dataURL = this.canvas.toDataURL();\n",
       "    this.cell_info[1]['text/html'] = '<img src=\"' + dataURL + '\" width=\"' + width + '\">';\n",
       "}\n",
       "\n",
       "mpl.figure.prototype.updated_canvas_event = function() {\n",
       "    // Tell IPython that the notebook contents must change.\n",
       "    IPython.notebook.set_dirty(true);\n",
       "    this.send_message(\"ack\", {});\n",
       "    var fig = this;\n",
       "    // Wait a second, then push the new image to the DOM so\n",
       "    // that it is saved nicely (might be nice to debounce this).\n",
       "    setTimeout(function () { fig.push_to_output() }, 1000);\n",
       "}\n",
       "\n",
       "mpl.figure.prototype._init_toolbar = function() {\n",
       "    var fig = this;\n",
       "\n",
       "    var nav_element = $('<div/>')\n",
       "    nav_element.attr('style', 'width: 100%');\n",
       "    this.root.append(nav_element);\n",
       "\n",
       "    // Define a callback function for later on.\n",
       "    function toolbar_event(event) {\n",
       "        return fig.toolbar_button_onclick(event['data']);\n",
       "    }\n",
       "    function toolbar_mouse_event(event) {\n",
       "        return fig.toolbar_button_onmouseover(event['data']);\n",
       "    }\n",
       "\n",
       "    for(var toolbar_ind in mpl.toolbar_items){\n",
       "        var name = mpl.toolbar_items[toolbar_ind][0];\n",
       "        var tooltip = mpl.toolbar_items[toolbar_ind][1];\n",
       "        var image = mpl.toolbar_items[toolbar_ind][2];\n",
       "        var method_name = mpl.toolbar_items[toolbar_ind][3];\n",
       "\n",
       "        if (!name) { continue; };\n",
       "\n",
       "        var button = $('<button class=\"btn btn-default\" href=\"#\" title=\"' + name + '\"><i class=\"fa ' + image + ' fa-lg\"></i></button>');\n",
       "        button.click(method_name, toolbar_event);\n",
       "        button.mouseover(tooltip, toolbar_mouse_event);\n",
       "        nav_element.append(button);\n",
       "    }\n",
       "\n",
       "    // Add the status bar.\n",
       "    var status_bar = $('<span class=\"mpl-message\" style=\"text-align:right; float: right;\"/>');\n",
       "    nav_element.append(status_bar);\n",
       "    this.message = status_bar[0];\n",
       "\n",
       "    // Add the close button to the window.\n",
       "    var buttongrp = $('<div class=\"btn-group inline pull-right\"></div>');\n",
       "    var button = $('<button class=\"btn btn-mini btn-primary\" href=\"#\" title=\"Stop Interaction\"><i class=\"fa fa-power-off icon-remove icon-large\"></i></button>');\n",
       "    button.click(function (evt) { fig.handle_close(fig, {}); } );\n",
       "    button.mouseover('Stop Interaction', toolbar_mouse_event);\n",
       "    buttongrp.append(button);\n",
       "    var titlebar = this.root.find($('.ui-dialog-titlebar'));\n",
       "    titlebar.prepend(buttongrp);\n",
       "}\n",
       "\n",
       "mpl.figure.prototype._root_extra_style = function(el){\n",
       "    var fig = this\n",
       "    el.on(\"remove\", function(){\n",
       "\tfig.close_ws(fig, {});\n",
       "    });\n",
       "}\n",
       "\n",
       "mpl.figure.prototype._canvas_extra_style = function(el){\n",
       "    // this is important to make the div 'focusable\n",
       "    el.attr('tabindex', 0)\n",
       "    // reach out to IPython and tell the keyboard manager to turn it's self\n",
       "    // off when our div gets focus\n",
       "\n",
       "    // location in version 3\n",
       "    if (IPython.notebook.keyboard_manager) {\n",
       "        IPython.notebook.keyboard_manager.register_events(el);\n",
       "    }\n",
       "    else {\n",
       "        // location in version 2\n",
       "        IPython.keyboard_manager.register_events(el);\n",
       "    }\n",
       "\n",
       "}\n",
       "\n",
       "mpl.figure.prototype._key_event_extra = function(event, name) {\n",
       "    var manager = IPython.notebook.keyboard_manager;\n",
       "    if (!manager)\n",
       "        manager = IPython.keyboard_manager;\n",
       "\n",
       "    // Check for shift+enter\n",
       "    if (event.shiftKey && event.which == 13) {\n",
       "        this.canvas_div.blur();\n",
       "        // select the cell after this one\n",
       "        var index = IPython.notebook.find_cell_index(this.cell_info[0]);\n",
       "        IPython.notebook.select(index + 1);\n",
       "    }\n",
       "}\n",
       "\n",
       "mpl.figure.prototype.handle_save = function(fig, msg) {\n",
       "    fig.ondownload(fig, null);\n",
       "}\n",
       "\n",
       "\n",
       "mpl.find_output_cell = function(html_output) {\n",
       "    // Return the cell and output element which can be found *uniquely* in the notebook.\n",
       "    // Note - this is a bit hacky, but it is done because the \"notebook_saving.Notebook\"\n",
       "    // IPython event is triggered only after the cells have been serialised, which for\n",
       "    // our purposes (turning an active figure into a static one), is too late.\n",
       "    var cells = IPython.notebook.get_cells();\n",
       "    var ncells = cells.length;\n",
       "    for (var i=0; i<ncells; i++) {\n",
       "        var cell = cells[i];\n",
       "        if (cell.cell_type === 'code'){\n",
       "            for (var j=0; j<cell.output_area.outputs.length; j++) {\n",
       "                var data = cell.output_area.outputs[j];\n",
       "                if (data.data) {\n",
       "                    // IPython >= 3 moved mimebundle to data attribute of output\n",
       "                    data = data.data;\n",
       "                }\n",
       "                if (data['text/html'] == html_output) {\n",
       "                    return [cell, data, j];\n",
       "                }\n",
       "            }\n",
       "        }\n",
       "    }\n",
       "}\n",
       "\n",
       "// Register the function which deals with the matplotlib target/channel.\n",
       "// The kernel may be null if the page has been refreshed.\n",
       "if (IPython.notebook.kernel != null) {\n",
       "    IPython.notebook.kernel.comm_manager.register_target('matplotlib', mpl.mpl_figure_comm);\n",
       "}\n"
      ],
      "text/plain": [
       "<IPython.core.display.Javascript object>"
      ]
     },
     "metadata": {},
     "output_type": "display_data"
    },
    {
     "data": {
      "text/html": [
       "<img src=\"data:image/png;base64,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\" width=\"1400\">"
      ],
      "text/plain": [
       "<IPython.core.display.HTML object>"
      ]
     },
     "metadata": {},
     "output_type": "display_data"
    }
   ],
   "source": [
    "vin = torch.load(get_model_path(world), map_location='cpu')\n",
    "\n",
    "labels, s1, s2, obs = get_random_data(test_ds, device)\n",
    "\n",
    "_, v, r_img = vin((s1, s2, obs), k=0)\n",
    "\n",
    "fig = make_world_r_v_image(obs, v)\n"
   ]
  },
  {
   "cell_type": "markdown",
   "metadata": {
    "slideshow": {
     "slide_type": "slide"
    }
   },
   "source": [
    "![Alt Text](https://raw.githubusercontent.com/FrancescoSaverioZuppichini/Value-Iteration-Network/master/core/gridworld_28x28/animation.gif)"
   ]
  },
  {
   "cell_type": "markdown",
   "metadata": {
    "slideshow": {
     "slide_type": "-"
    }
   },
   "source": [
    "https://github.com/FrancescoSaverioZuppichini/Value-Iteration-Network"
   ]
  },
  {
   "cell_type": "markdown",
   "metadata": {
    "slideshow": {
     "slide_type": "slide"
    }
   },
   "source": [
    "## Thank you"
   ]
  },
  {
   "cell_type": "code",
   "execution_count": null,
   "metadata": {},
   "outputs": [],
   "source": []
  }
 ],
 "metadata": {
  "celltoolbar": "Slideshow",
  "kernelspec": {
   "display_name": "Python 3",
   "language": "python",
   "name": "python3"
  },
  "language_info": {
   "codemirror_mode": {
    "name": "ipython",
    "version": 3
   },
   "file_extension": ".py",
   "mimetype": "text/x-python",
   "name": "python",
   "nbconvert_exporter": "python",
   "pygments_lexer": "ipython3",
   "version": "3.6.5"
  },
  "rise": {
   "enable_chalkboard": true
  }
 },
 "nbformat": 4,
 "nbformat_minor": 2
}
