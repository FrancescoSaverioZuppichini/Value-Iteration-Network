{
 "cells": [
  {
   "cell_type": "markdown",
   "metadata": {
    "slideshow": {
     "slide_type": "slide"
    }
   },
   "source": [
    "# Value Iteration Networks\n",
    "## Francesco Saverio Zuppichini\n",
    "\n",
    "*Authors: Aviv Tamar, Yi Wu, Garrett Thomas, Sergey Levine, and Pieter Abbeel*"
   ]
  },
  {
   "cell_type": "markdown",
   "metadata": {
    "slideshow": {
     "slide_type": "slide"
    }
   },
   "source": [
    "# Value Iteration Networks\n",
    "![title](https://raw.githubusercontent.com/FrancescoSaverioZuppichini/Value-Iteration-Network/master/resources/vin.png)\n",
    "\n",
    "Problem: *Planning* not able to generalise unseen domains \n",
    "\n",
    "Solution: A module able to **learn** to plan"
   ]
  },
  {
   "cell_type": "markdown",
   "metadata": {
    "slideshow": {
     "slide_type": "slide"
    }
   },
   "source": [
    "# Recap"
   ]
  },
  {
   "cell_type": "markdown",
   "metadata": {
    "slideshow": {
     "slide_type": "subslide"
    }
   },
   "source": [
    "### Markov Decision Process\n",
    "\n",
    "is a 5-tuple $(S, A, P, R, \\gamma)$ where:\n",
    "\n",
    "$$\n",
    "\\begin{equation}\n",
    "        \\begin{array}{l}\n",
    "         \\text{finite set of states:} \\\\\n",
    "                s \\in S \\\\\n",
    "         \\text{finite set of actions:} \\\\\n",
    "        a \\in A \\\\\n",
    "                 \\text{state transition probabilities:} \\\\\n",
    "        p(s' | s, a) = Pr \\{S_{t + 1} = s' | S_t = s, A_t = a \\} \\\\\n",
    "                \\text{expected reward for state-action-nexstate:}\\\\\n",
    "        r(s',s, a) = \\mathbb{E}[ R_{t + 1} | S_{t + 1} = s',  S_t = s, A_t = a ]  \\\\\n",
    "        \\end{array}\n",
    "\\end{equation}\n",
    "$$"
   ]
  },
  {
   "cell_type": "markdown",
   "metadata": {
    "slideshow": {
     "slide_type": "subslide"
    }
   },
   "source": [
    "### Reward\n",
    "\n",
    "$$G_t = \\sum_{k = 0}^H \\gamma^kr_{t + k + 1}$$"
   ]
  },
  {
   "cell_type": "markdown",
   "metadata": {
    "slideshow": {
     "slide_type": "subslide"
    }
   },
   "source": [
    "### Value Function\n",
    "\n",
    "*how good* is to be in a state\n",
    "\n",
    "$$\n",
    "V_{\\pi}(s) = \\mathbb{E}[G_t | S_t = s]\n",
    "$$"
   ]
  },
  {
   "cell_type": "markdown",
   "metadata": {
    "slideshow": {
     "slide_type": "fragment"
    }
   },
   "source": [
    "#### Bellman Equation\n",
    "\n",
    "**recursive** relation\n",
    "\n",
    "$$\\begin{equation}\n",
    "\\begin{array}{l l}\n",
    "V_{\\pi}(s) & = \\mathbb{E}_{\\pi}\\begin{bmatrix}G_t | S_t = s\\end{bmatrix} \\\\\n",
    "\\\\\n",
    "& =  \\mathbb{E}_{\\pi}\\begin{bmatrix}\\sum\\limits_{k = 0}^{\\infty} \\gamma^kR_{t + k + 1} | S_t = s \\end{bmatrix} \\\\\n",
    "\\\\\n",
    "...\n",
    "\\\\\n",
    "& = \\sum\\limits_{a} \\pi(a | s) \\sum\\limits_{s'}\\sum\\limits_{r} p(s', r | s, a)\\begin{bmatrix} r + \\gamma V_{\\pi}(s')\n",
    "\\end{bmatrix}\n",
    "\\end{array}\n",
    "\\label{eq: value_bellman}\n",
    "\\end{equation}$$"
   ]
  },
  {
   "cell_type": "markdown",
   "metadata": {
    "slideshow": {
     "slide_type": "fragment"
    }
   },
   "source": [
    "Thus we can **PLAN**"
   ]
  },
  {
   "cell_type": "markdown",
   "metadata": {
    "slideshow": {
     "slide_type": "slide"
    }
   },
   "source": [
    "# Value Iteration\n",
    "\n",
    "![alt](https://raw.githubusercontent.com/FrancescoSaverioZuppichini/Value-Iteration-Network/master/resources/value_iteration.jpg)\n",
    "\n",
    "Does not *generalise*\n"
   ]
  },
  {
   "cell_type": "markdown",
   "metadata": {
    "slideshow": {
     "slide_type": "slide"
    }
   },
   "source": [
    "If we think about \n",
    "\n",
    "$$\n",
    "V_{n + 1}(s) = max_aQ_n(s,a) \\quad \\forall s\n",
    "$$\n",
    "\n",
    "where\n",
    "\n",
    "$$\n",
    "Q_n(s,a) = R(s,a) + \\gamma \\sum_{s'}P(s'|s,a)V_n(s')\n",
    "$$\n",
    "\n",
    "It is very similar to a **convolutional** and **max pooling** operation\n",
    "\n",
    "\n",
    "*paper notation*\n"
   ]
  },
  {
   "cell_type": "markdown",
   "metadata": {
    "slideshow": {
     "slide_type": "slide"
    }
   },
   "source": [
    "If we think about \n",
    "\n",
    "$$\n",
    "V_{n + 1}(s) = \\underbrace{max_a}_{\\text Max Pooling}Q_n(s,a) \\quad \\forall s\n",
    "$$\n",
    "\n",
    "where\n",
    "\n",
    "$$\n",
    "Q_n(s,a) = R(s,a) + \\underbrace{\\gamma \\sum_{s'}P(s'|s,a)}_{\\text{Convolution}}V_n(s')\n",
    "$$\n"
   ]
  },
  {
   "cell_type": "markdown",
   "metadata": {
    "slideshow": {
     "slide_type": "fragment"
    }
   },
   "source": [
    "Convolution\n",
    "\n",
    "\n",
    "$$\n",
    "h_{l', i', j'} = \\sigma(\\sum_{l,i,j} W^{l'}_{l,i,j}X_{l, i'-i, j' - j})\n",
    "$$\n",
    "\n",
    "Max Pooling\n",
    "\n",
    "$$\n",
    "h_{l, i, j} ^{\\text{maxpool}} - max_{l', j' \\in N(i,j)} h_{l,i',j'}\n",
    "$$"
   ]
  },
  {
   "cell_type": "markdown",
   "metadata": {
    "slideshow": {
     "slide_type": "subslide"
    }
   },
   "source": [
    "Thus we can represent Value Iteration with a **CNN**"
   ]
  },
  {
   "cell_type": "markdown",
   "metadata": {
    "slideshow": {
     "slide_type": "slide"
    }
   },
   "source": [
    "# Value Iteration Network\n",
    "\n",
    "![alt](https://raw.githubusercontent.com/FrancescoSaverioZuppichini/Value-Iteration-Network/master/resources/3.jpg)\n",
    "\n",
    "Assume there is a un uknowm $\\bar M$ and add the solution to $\\pi$ policy of $M$\n",
    "\n",
    "\n",
    "We want to learn $ \\bar R = f_r(\\phi(s)) $ and $ \\bar P = f_P(\\phi(s)) $ "
   ]
  },
  {
   "cell_type": "markdown",
   "metadata": {
    "slideshow": {
     "slide_type": "notes"
    }
   },
   "source": [
    "R maps an image of the domain to a high reward at the goal and negative near an obstacle\n",
    "\n",
    "P encodes deterministic movement in the grid-woirld that do not depend on the observations"
   ]
  },
  {
   "cell_type": "markdown",
   "metadata": {
    "slideshow": {
     "slide_type": "slide"
    }
   },
   "source": [
    "Notice that\n",
    "\n",
    "$$ \\bar \\pi^* = argmax_{\\bar a} \\bar R (\\bar s, \\bar a) + \\gamma  \\sum_{\\bar s'} \\bar P (\\bar s'| \\bar s, \\bar a) \\bar V^*(\\bar s') $$\n",
    "\n",
    "**local connectivity** the states with $\\bar P (\\bar s'| \\bar s, \\bar a)$ small subset of $\\bar S$. **Attention**\n",
    "\n",
    "![alt](https://raw.githubusercontent.com/FrancescoSaverioZuppichini/Value-Iteration-Network/master/resources/attention.jpg)\n"
   ]
  },
  {
   "cell_type": "markdown",
   "metadata": {
    "slideshow": {
     "slide_type": "slide"
    }
   },
   "source": [
    "# Value Iteration Module\n",
    "![alt](https://raw.githubusercontent.com/FrancescoSaverioZuppichini/Value-Iteration-Network/master/resources/4.jpg)\n",
    "\n",
    "$$\n",
    "Q_{\\bar a, i', j'} = \\sum_{l, i, j} W^{\\bar a}_{l,i,j} \\bar R_{l, i' - i, j' - j}\n",
    "$$"
   ]
  },
  {
   "cell_type": "markdown",
   "metadata": {
    "slideshow": {
     "slide_type": "subslide"
    }
   },
   "source": [
    "![alt](https://raw.githubusercontent.com/FrancescoSaverioZuppichini/Value-Iteration-Network/master/resources/1.jpg)\n",
    "\n",
    "new $V$ stacked ro $\\bar R$ and feed again"
   ]
  },
  {
   "cell_type": "markdown",
   "metadata": {
    "slideshow": {
     "slide_type": "slide"
    }
   },
   "source": [
    "# Experiments"
   ]
  },
  {
   "cell_type": "markdown",
   "metadata": {
    "slideshow": {
     "slide_type": "slide"
    }
   },
   "source": [
    "## Grid World\n",
    "\n",
    "![alt](https://raw.githubusercontent.com/FrancescoSaverioZuppichini/Value-Iteration-Network/master/resources/6.jpg)\n",
    "\n",
    "\n",
    "![alt](https://raw.githubusercontent.com/FrancescoSaverioZuppichini/Value-Iteration-Network/master/resources/7.jpg)\n",
    "\n",
    "\n",
    "![alt](https://raw.githubusercontent.com/FrancescoSaverioZuppichini/Value-Iteration-Network/master/resources/vis.png)\n"
   ]
  },
  {
   "cell_type": "markdown",
   "metadata": {
    "slideshow": {
     "slide_type": "subslide"
    }
   },
   "source": [
    "## Architecture\n",
    "\n",
    "![alt](https://raw.githubusercontent.com/FrancescoSaverioZuppichini/Value-Iteration-Network/master/resources/14.png)"
   ]
  },
  {
   "cell_type": "markdown",
   "metadata": {
    "slideshow": {
     "slide_type": "slide"
    }
   },
   "source": [
    "# Mars Rover Navigation\n",
    "\n",
    "![alt](https://raw.githubusercontent.com/FrancescoSaverioZuppichini/Value-Iteration-Network/master/resources/12.jpg)\n",
    "\n",
    "\n",
    "VIN learn to plan *from natural image input* \n",
    "\n",
    "elevation/obstacles data not a part of the input\n",
    "\n",
    "$84.8%$ success rate"
   ]
  },
  {
   "cell_type": "markdown",
   "metadata": {
    "slideshow": {
     "slide_type": "slide"
    }
   },
   "source": [
    "# Continuous Control\n",
    "![alt](https://raw.githubusercontent.com/FrancescoSaverioZuppichini/Value-Iteration-Network/master/resources/10.jpg)\n",
    "\n",
    "\n",
    "Continuous states and continuous actions\n",
    "\n",
    "Grid size 28x28\n",
    "\n",
    "VIN train on coarse grid representation"
   ]
  },
  {
   "cell_type": "markdown",
   "metadata": {
    "slideshow": {
     "slide_type": "slide"
    }
   },
   "source": [
    "![alt](https://raw.githubusercontent.com/FrancescoSaverioZuppichini/Value-Iteration-Network/master/resources/h.jpg)\n",
    "![alt](https://raw.githubusercontent.com/FrancescoSaverioZuppichini/Value-Iteration-Network/master/resources/r.jpg)\n"
   ]
  },
  {
   "cell_type": "markdown",
   "metadata": {
    "slideshow": {
     "slide_type": "slide"
    }
   },
   "source": [
    "# Conclusion\n",
    "\n",
    "scalable architecture \n",
    "\n",
    "It is able to learn!\n",
    "\n",
    "easy to implement"
   ]
  },
  {
   "cell_type": "markdown",
   "metadata": {
    "slideshow": {
     "slide_type": "slide"
    }
   },
   "source": [
    "#### Does it work?"
   ]
  },
  {
   "cell_type": "code",
   "execution_count": 52,
   "metadata": {
    "slideshow": {
     "slide_type": "subslide"
    }
   },
   "outputs": [],
   "source": [
    "import torch\n",
    "\n",
    "import matplotlib.pyplot as plt\n",
    "\n",
    "from torch.utils.data import DataLoader\n",
    "\n",
    "from datasets import GridWorldDataset\n",
    "from config import *\n",
    "from utils import *\n",
    "\n",
    "%matplotlib notebook \n",
    "plt.rcParams['figure.figsize'] = (14,4)"
   ]
  },
  {
   "cell_type": "code",
   "execution_count": 60,
   "metadata": {
    "slideshow": {
     "slide_type": "subslide"
    }
   },
   "outputs": [],
   "source": [
    "world = WORLD_28X28\n",
    "\n",
    "test_ds = GridWorldDataset(*world, train=False)"
   ]
  },
  {
   "cell_type": "code",
   "execution_count": 64,
   "metadata": {
    "scrolled": false,
    "slideshow": {
     "slide_type": "slide"
    }
   },
   "outputs": [
    {
     "data": {
      "application/javascript": [
       "/* Put everything inside the global mpl namespace */\n",
       "window.mpl = {};\n",
       "\n",
       "\n",
       "mpl.get_websocket_type = function() {\n",
       "    if (typeof(WebSocket) !== 'undefined') {\n",
       "        return WebSocket;\n",
       "    } else if (typeof(MozWebSocket) !== 'undefined') {\n",
       "        return MozWebSocket;\n",
       "    } else {\n",
       "        alert('Your browser does not have WebSocket support.' +\n",
       "              'Please try Chrome, Safari or Firefox ≥ 6. ' +\n",
       "              'Firefox 4 and 5 are also supported but you ' +\n",
       "              'have to enable WebSockets in about:config.');\n",
       "    };\n",
       "}\n",
       "\n",
       "mpl.figure = function(figure_id, websocket, ondownload, parent_element) {\n",
       "    this.id = figure_id;\n",
       "\n",
       "    this.ws = websocket;\n",
       "\n",
       "    this.supports_binary = (this.ws.binaryType != undefined);\n",
       "\n",
       "    if (!this.supports_binary) {\n",
       "        var warnings = document.getElementById(\"mpl-warnings\");\n",
       "        if (warnings) {\n",
       "            warnings.style.display = 'block';\n",
       "            warnings.textContent = (\n",
       "                \"This browser does not support binary websocket messages. \" +\n",
       "                    \"Performance may be slow.\");\n",
       "        }\n",
       "    }\n",
       "\n",
       "    this.imageObj = new Image();\n",
       "\n",
       "    this.context = undefined;\n",
       "    this.message = undefined;\n",
       "    this.canvas = undefined;\n",
       "    this.rubberband_canvas = undefined;\n",
       "    this.rubberband_context = undefined;\n",
       "    this.format_dropdown = undefined;\n",
       "\n",
       "    this.image_mode = 'full';\n",
       "\n",
       "    this.root = $('<div/>');\n",
       "    this._root_extra_style(this.root)\n",
       "    this.root.attr('style', 'display: inline-block');\n",
       "\n",
       "    $(parent_element).append(this.root);\n",
       "\n",
       "    this._init_header(this);\n",
       "    this._init_canvas(this);\n",
       "    this._init_toolbar(this);\n",
       "\n",
       "    var fig = this;\n",
       "\n",
       "    this.waiting = false;\n",
       "\n",
       "    this.ws.onopen =  function () {\n",
       "            fig.send_message(\"supports_binary\", {value: fig.supports_binary});\n",
       "            fig.send_message(\"send_image_mode\", {});\n",
       "            if (mpl.ratio != 1) {\n",
       "                fig.send_message(\"set_dpi_ratio\", {'dpi_ratio': mpl.ratio});\n",
       "            }\n",
       "            fig.send_message(\"refresh\", {});\n",
       "        }\n",
       "\n",
       "    this.imageObj.onload = function() {\n",
       "            if (fig.image_mode == 'full') {\n",
       "                // Full images could contain transparency (where diff images\n",
       "                // almost always do), so we need to clear the canvas so that\n",
       "                // there is no ghosting.\n",
       "                fig.context.clearRect(0, 0, fig.canvas.width, fig.canvas.height);\n",
       "            }\n",
       "            fig.context.drawImage(fig.imageObj, 0, 0);\n",
       "        };\n",
       "\n",
       "    this.imageObj.onunload = function() {\n",
       "        this.ws.close();\n",
       "    }\n",
       "\n",
       "    this.ws.onmessage = this._make_on_message_function(this);\n",
       "\n",
       "    this.ondownload = ondownload;\n",
       "}\n",
       "\n",
       "mpl.figure.prototype._init_header = function() {\n",
       "    var titlebar = $(\n",
       "        '<div class=\"ui-dialog-titlebar ui-widget-header ui-corner-all ' +\n",
       "        'ui-helper-clearfix\"/>');\n",
       "    var titletext = $(\n",
       "        '<div class=\"ui-dialog-title\" style=\"width: 100%; ' +\n",
       "        'text-align: center; padding: 3px;\"/>');\n",
       "    titlebar.append(titletext)\n",
       "    this.root.append(titlebar);\n",
       "    this.header = titletext[0];\n",
       "}\n",
       "\n",
       "\n",
       "\n",
       "mpl.figure.prototype._canvas_extra_style = function(canvas_div) {\n",
       "\n",
       "}\n",
       "\n",
       "\n",
       "mpl.figure.prototype._root_extra_style = function(canvas_div) {\n",
       "\n",
       "}\n",
       "\n",
       "mpl.figure.prototype._init_canvas = function() {\n",
       "    var fig = this;\n",
       "\n",
       "    var canvas_div = $('<div/>');\n",
       "\n",
       "    canvas_div.attr('style', 'position: relative; clear: both; outline: 0');\n",
       "\n",
       "    function canvas_keyboard_event(event) {\n",
       "        return fig.key_event(event, event['data']);\n",
       "    }\n",
       "\n",
       "    canvas_div.keydown('key_press', canvas_keyboard_event);\n",
       "    canvas_div.keyup('key_release', canvas_keyboard_event);\n",
       "    this.canvas_div = canvas_div\n",
       "    this._canvas_extra_style(canvas_div)\n",
       "    this.root.append(canvas_div);\n",
       "\n",
       "    var canvas = $('<canvas/>');\n",
       "    canvas.addClass('mpl-canvas');\n",
       "    canvas.attr('style', \"left: 0; top: 0; z-index: 0; outline: 0\")\n",
       "\n",
       "    this.canvas = canvas[0];\n",
       "    this.context = canvas[0].getContext(\"2d\");\n",
       "\n",
       "    var backingStore = this.context.backingStorePixelRatio ||\n",
       "\tthis.context.webkitBackingStorePixelRatio ||\n",
       "\tthis.context.mozBackingStorePixelRatio ||\n",
       "\tthis.context.msBackingStorePixelRatio ||\n",
       "\tthis.context.oBackingStorePixelRatio ||\n",
       "\tthis.context.backingStorePixelRatio || 1;\n",
       "\n",
       "    mpl.ratio = (window.devicePixelRatio || 1) / backingStore;\n",
       "\n",
       "    var rubberband = $('<canvas/>');\n",
       "    rubberband.attr('style', \"position: absolute; left: 0; top: 0; z-index: 1;\")\n",
       "\n",
       "    var pass_mouse_events = true;\n",
       "\n",
       "    canvas_div.resizable({\n",
       "        start: function(event, ui) {\n",
       "            pass_mouse_events = false;\n",
       "        },\n",
       "        resize: function(event, ui) {\n",
       "            fig.request_resize(ui.size.width, ui.size.height);\n",
       "        },\n",
       "        stop: function(event, ui) {\n",
       "            pass_mouse_events = true;\n",
       "            fig.request_resize(ui.size.width, ui.size.height);\n",
       "        },\n",
       "    });\n",
       "\n",
       "    function mouse_event_fn(event) {\n",
       "        if (pass_mouse_events)\n",
       "            return fig.mouse_event(event, event['data']);\n",
       "    }\n",
       "\n",
       "    rubberband.mousedown('button_press', mouse_event_fn);\n",
       "    rubberband.mouseup('button_release', mouse_event_fn);\n",
       "    // Throttle sequential mouse events to 1 every 20ms.\n",
       "    rubberband.mousemove('motion_notify', mouse_event_fn);\n",
       "\n",
       "    rubberband.mouseenter('figure_enter', mouse_event_fn);\n",
       "    rubberband.mouseleave('figure_leave', mouse_event_fn);\n",
       "\n",
       "    canvas_div.on(\"wheel\", function (event) {\n",
       "        event = event.originalEvent;\n",
       "        event['data'] = 'scroll'\n",
       "        if (event.deltaY < 0) {\n",
       "            event.step = 1;\n",
       "        } else {\n",
       "            event.step = -1;\n",
       "        }\n",
       "        mouse_event_fn(event);\n",
       "    });\n",
       "\n",
       "    canvas_div.append(canvas);\n",
       "    canvas_div.append(rubberband);\n",
       "\n",
       "    this.rubberband = rubberband;\n",
       "    this.rubberband_canvas = rubberband[0];\n",
       "    this.rubberband_context = rubberband[0].getContext(\"2d\");\n",
       "    this.rubberband_context.strokeStyle = \"#000000\";\n",
       "\n",
       "    this._resize_canvas = function(width, height) {\n",
       "        // Keep the size of the canvas, canvas container, and rubber band\n",
       "        // canvas in synch.\n",
       "        canvas_div.css('width', width)\n",
       "        canvas_div.css('height', height)\n",
       "\n",
       "        canvas.attr('width', width * mpl.ratio);\n",
       "        canvas.attr('height', height * mpl.ratio);\n",
       "        canvas.attr('style', 'width: ' + width + 'px; height: ' + height + 'px;');\n",
       "\n",
       "        rubberband.attr('width', width);\n",
       "        rubberband.attr('height', height);\n",
       "    }\n",
       "\n",
       "    // Set the figure to an initial 600x600px, this will subsequently be updated\n",
       "    // upon first draw.\n",
       "    this._resize_canvas(600, 600);\n",
       "\n",
       "    // Disable right mouse context menu.\n",
       "    $(this.rubberband_canvas).bind(\"contextmenu\",function(e){\n",
       "        return false;\n",
       "    });\n",
       "\n",
       "    function set_focus () {\n",
       "        canvas.focus();\n",
       "        canvas_div.focus();\n",
       "    }\n",
       "\n",
       "    window.setTimeout(set_focus, 100);\n",
       "}\n",
       "\n",
       "mpl.figure.prototype._init_toolbar = function() {\n",
       "    var fig = this;\n",
       "\n",
       "    var nav_element = $('<div/>')\n",
       "    nav_element.attr('style', 'width: 100%');\n",
       "    this.root.append(nav_element);\n",
       "\n",
       "    // Define a callback function for later on.\n",
       "    function toolbar_event(event) {\n",
       "        return fig.toolbar_button_onclick(event['data']);\n",
       "    }\n",
       "    function toolbar_mouse_event(event) {\n",
       "        return fig.toolbar_button_onmouseover(event['data']);\n",
       "    }\n",
       "\n",
       "    for(var toolbar_ind in mpl.toolbar_items) {\n",
       "        var name = mpl.toolbar_items[toolbar_ind][0];\n",
       "        var tooltip = mpl.toolbar_items[toolbar_ind][1];\n",
       "        var image = mpl.toolbar_items[toolbar_ind][2];\n",
       "        var method_name = mpl.toolbar_items[toolbar_ind][3];\n",
       "\n",
       "        if (!name) {\n",
       "            // put a spacer in here.\n",
       "            continue;\n",
       "        }\n",
       "        var button = $('<button/>');\n",
       "        button.addClass('ui-button ui-widget ui-state-default ui-corner-all ' +\n",
       "                        'ui-button-icon-only');\n",
       "        button.attr('role', 'button');\n",
       "        button.attr('aria-disabled', 'false');\n",
       "        button.click(method_name, toolbar_event);\n",
       "        button.mouseover(tooltip, toolbar_mouse_event);\n",
       "\n",
       "        var icon_img = $('<span/>');\n",
       "        icon_img.addClass('ui-button-icon-primary ui-icon');\n",
       "        icon_img.addClass(image);\n",
       "        icon_img.addClass('ui-corner-all');\n",
       "\n",
       "        var tooltip_span = $('<span/>');\n",
       "        tooltip_span.addClass('ui-button-text');\n",
       "        tooltip_span.html(tooltip);\n",
       "\n",
       "        button.append(icon_img);\n",
       "        button.append(tooltip_span);\n",
       "\n",
       "        nav_element.append(button);\n",
       "    }\n",
       "\n",
       "    var fmt_picker_span = $('<span/>');\n",
       "\n",
       "    var fmt_picker = $('<select/>');\n",
       "    fmt_picker.addClass('mpl-toolbar-option ui-widget ui-widget-content');\n",
       "    fmt_picker_span.append(fmt_picker);\n",
       "    nav_element.append(fmt_picker_span);\n",
       "    this.format_dropdown = fmt_picker[0];\n",
       "\n",
       "    for (var ind in mpl.extensions) {\n",
       "        var fmt = mpl.extensions[ind];\n",
       "        var option = $(\n",
       "            '<option/>', {selected: fmt === mpl.default_extension}).html(fmt);\n",
       "        fmt_picker.append(option)\n",
       "    }\n",
       "\n",
       "    // Add hover states to the ui-buttons\n",
       "    $( \".ui-button\" ).hover(\n",
       "        function() { $(this).addClass(\"ui-state-hover\");},\n",
       "        function() { $(this).removeClass(\"ui-state-hover\");}\n",
       "    );\n",
       "\n",
       "    var status_bar = $('<span class=\"mpl-message\"/>');\n",
       "    nav_element.append(status_bar);\n",
       "    this.message = status_bar[0];\n",
       "}\n",
       "\n",
       "mpl.figure.prototype.request_resize = function(x_pixels, y_pixels) {\n",
       "    // Request matplotlib to resize the figure. Matplotlib will then trigger a resize in the client,\n",
       "    // which will in turn request a refresh of the image.\n",
       "    this.send_message('resize', {'width': x_pixels, 'height': y_pixels});\n",
       "}\n",
       "\n",
       "mpl.figure.prototype.send_message = function(type, properties) {\n",
       "    properties['type'] = type;\n",
       "    properties['figure_id'] = this.id;\n",
       "    this.ws.send(JSON.stringify(properties));\n",
       "}\n",
       "\n",
       "mpl.figure.prototype.send_draw_message = function() {\n",
       "    if (!this.waiting) {\n",
       "        this.waiting = true;\n",
       "        this.ws.send(JSON.stringify({type: \"draw\", figure_id: this.id}));\n",
       "    }\n",
       "}\n",
       "\n",
       "\n",
       "mpl.figure.prototype.handle_save = function(fig, msg) {\n",
       "    var format_dropdown = fig.format_dropdown;\n",
       "    var format = format_dropdown.options[format_dropdown.selectedIndex].value;\n",
       "    fig.ondownload(fig, format);\n",
       "}\n",
       "\n",
       "\n",
       "mpl.figure.prototype.handle_resize = function(fig, msg) {\n",
       "    var size = msg['size'];\n",
       "    if (size[0] != fig.canvas.width || size[1] != fig.canvas.height) {\n",
       "        fig._resize_canvas(size[0], size[1]);\n",
       "        fig.send_message(\"refresh\", {});\n",
       "    };\n",
       "}\n",
       "\n",
       "mpl.figure.prototype.handle_rubberband = function(fig, msg) {\n",
       "    var x0 = msg['x0'] / mpl.ratio;\n",
       "    var y0 = (fig.canvas.height - msg['y0']) / mpl.ratio;\n",
       "    var x1 = msg['x1'] / mpl.ratio;\n",
       "    var y1 = (fig.canvas.height - msg['y1']) / mpl.ratio;\n",
       "    x0 = Math.floor(x0) + 0.5;\n",
       "    y0 = Math.floor(y0) + 0.5;\n",
       "    x1 = Math.floor(x1) + 0.5;\n",
       "    y1 = Math.floor(y1) + 0.5;\n",
       "    var min_x = Math.min(x0, x1);\n",
       "    var min_y = Math.min(y0, y1);\n",
       "    var width = Math.abs(x1 - x0);\n",
       "    var height = Math.abs(y1 - y0);\n",
       "\n",
       "    fig.rubberband_context.clearRect(\n",
       "        0, 0, fig.canvas.width, fig.canvas.height);\n",
       "\n",
       "    fig.rubberband_context.strokeRect(min_x, min_y, width, height);\n",
       "}\n",
       "\n",
       "mpl.figure.prototype.handle_figure_label = function(fig, msg) {\n",
       "    // Updates the figure title.\n",
       "    fig.header.textContent = msg['label'];\n",
       "}\n",
       "\n",
       "mpl.figure.prototype.handle_cursor = function(fig, msg) {\n",
       "    var cursor = msg['cursor'];\n",
       "    switch(cursor)\n",
       "    {\n",
       "    case 0:\n",
       "        cursor = 'pointer';\n",
       "        break;\n",
       "    case 1:\n",
       "        cursor = 'default';\n",
       "        break;\n",
       "    case 2:\n",
       "        cursor = 'crosshair';\n",
       "        break;\n",
       "    case 3:\n",
       "        cursor = 'move';\n",
       "        break;\n",
       "    }\n",
       "    fig.rubberband_canvas.style.cursor = cursor;\n",
       "}\n",
       "\n",
       "mpl.figure.prototype.handle_message = function(fig, msg) {\n",
       "    fig.message.textContent = msg['message'];\n",
       "}\n",
       "\n",
       "mpl.figure.prototype.handle_draw = function(fig, msg) {\n",
       "    // Request the server to send over a new figure.\n",
       "    fig.send_draw_message();\n",
       "}\n",
       "\n",
       "mpl.figure.prototype.handle_image_mode = function(fig, msg) {\n",
       "    fig.image_mode = msg['mode'];\n",
       "}\n",
       "\n",
       "mpl.figure.prototype.updated_canvas_event = function() {\n",
       "    // Called whenever the canvas gets updated.\n",
       "    this.send_message(\"ack\", {});\n",
       "}\n",
       "\n",
       "// A function to construct a web socket function for onmessage handling.\n",
       "// Called in the figure constructor.\n",
       "mpl.figure.prototype._make_on_message_function = function(fig) {\n",
       "    return function socket_on_message(evt) {\n",
       "        if (evt.data instanceof Blob) {\n",
       "            /* FIXME: We get \"Resource interpreted as Image but\n",
       "             * transferred with MIME type text/plain:\" errors on\n",
       "             * Chrome.  But how to set the MIME type?  It doesn't seem\n",
       "             * to be part of the websocket stream */\n",
       "            evt.data.type = \"image/png\";\n",
       "\n",
       "            /* Free the memory for the previous frames */\n",
       "            if (fig.imageObj.src) {\n",
       "                (window.URL || window.webkitURL).revokeObjectURL(\n",
       "                    fig.imageObj.src);\n",
       "            }\n",
       "\n",
       "            fig.imageObj.src = (window.URL || window.webkitURL).createObjectURL(\n",
       "                evt.data);\n",
       "            fig.updated_canvas_event();\n",
       "            fig.waiting = false;\n",
       "            return;\n",
       "        }\n",
       "        else if (typeof evt.data === 'string' && evt.data.slice(0, 21) == \"data:image/png;base64\") {\n",
       "            fig.imageObj.src = evt.data;\n",
       "            fig.updated_canvas_event();\n",
       "            fig.waiting = false;\n",
       "            return;\n",
       "        }\n",
       "\n",
       "        var msg = JSON.parse(evt.data);\n",
       "        var msg_type = msg['type'];\n",
       "\n",
       "        // Call the  \"handle_{type}\" callback, which takes\n",
       "        // the figure and JSON message as its only arguments.\n",
       "        try {\n",
       "            var callback = fig[\"handle_\" + msg_type];\n",
       "        } catch (e) {\n",
       "            console.log(\"No handler for the '\" + msg_type + \"' message type: \", msg);\n",
       "            return;\n",
       "        }\n",
       "\n",
       "        if (callback) {\n",
       "            try {\n",
       "                // console.log(\"Handling '\" + msg_type + \"' message: \", msg);\n",
       "                callback(fig, msg);\n",
       "            } catch (e) {\n",
       "                console.log(\"Exception inside the 'handler_\" + msg_type + \"' callback:\", e, e.stack, msg);\n",
       "            }\n",
       "        }\n",
       "    };\n",
       "}\n",
       "\n",
       "// from http://stackoverflow.com/questions/1114465/getting-mouse-location-in-canvas\n",
       "mpl.findpos = function(e) {\n",
       "    //this section is from http://www.quirksmode.org/js/events_properties.html\n",
       "    var targ;\n",
       "    if (!e)\n",
       "        e = window.event;\n",
       "    if (e.target)\n",
       "        targ = e.target;\n",
       "    else if (e.srcElement)\n",
       "        targ = e.srcElement;\n",
       "    if (targ.nodeType == 3) // defeat Safari bug\n",
       "        targ = targ.parentNode;\n",
       "\n",
       "    // jQuery normalizes the pageX and pageY\n",
       "    // pageX,Y are the mouse positions relative to the document\n",
       "    // offset() returns the position of the element relative to the document\n",
       "    var x = e.pageX - $(targ).offset().left;\n",
       "    var y = e.pageY - $(targ).offset().top;\n",
       "\n",
       "    return {\"x\": x, \"y\": y};\n",
       "};\n",
       "\n",
       "/*\n",
       " * return a copy of an object with only non-object keys\n",
       " * we need this to avoid circular references\n",
       " * http://stackoverflow.com/a/24161582/3208463\n",
       " */\n",
       "function simpleKeys (original) {\n",
       "  return Object.keys(original).reduce(function (obj, key) {\n",
       "    if (typeof original[key] !== 'object')\n",
       "        obj[key] = original[key]\n",
       "    return obj;\n",
       "  }, {});\n",
       "}\n",
       "\n",
       "mpl.figure.prototype.mouse_event = function(event, name) {\n",
       "    var canvas_pos = mpl.findpos(event)\n",
       "\n",
       "    if (name === 'button_press')\n",
       "    {\n",
       "        this.canvas.focus();\n",
       "        this.canvas_div.focus();\n",
       "    }\n",
       "\n",
       "    var x = canvas_pos.x * mpl.ratio;\n",
       "    var y = canvas_pos.y * mpl.ratio;\n",
       "\n",
       "    this.send_message(name, {x: x, y: y, button: event.button,\n",
       "                             step: event.step,\n",
       "                             guiEvent: simpleKeys(event)});\n",
       "\n",
       "    /* This prevents the web browser from automatically changing to\n",
       "     * the text insertion cursor when the button is pressed.  We want\n",
       "     * to control all of the cursor setting manually through the\n",
       "     * 'cursor' event from matplotlib */\n",
       "    event.preventDefault();\n",
       "    return false;\n",
       "}\n",
       "\n",
       "mpl.figure.prototype._key_event_extra = function(event, name) {\n",
       "    // Handle any extra behaviour associated with a key event\n",
       "}\n",
       "\n",
       "mpl.figure.prototype.key_event = function(event, name) {\n",
       "\n",
       "    // Prevent repeat events\n",
       "    if (name == 'key_press')\n",
       "    {\n",
       "        if (event.which === this._key)\n",
       "            return;\n",
       "        else\n",
       "            this._key = event.which;\n",
       "    }\n",
       "    if (name == 'key_release')\n",
       "        this._key = null;\n",
       "\n",
       "    var value = '';\n",
       "    if (event.ctrlKey && event.which != 17)\n",
       "        value += \"ctrl+\";\n",
       "    if (event.altKey && event.which != 18)\n",
       "        value += \"alt+\";\n",
       "    if (event.shiftKey && event.which != 16)\n",
       "        value += \"shift+\";\n",
       "\n",
       "    value += 'k';\n",
       "    value += event.which.toString();\n",
       "\n",
       "    this._key_event_extra(event, name);\n",
       "\n",
       "    this.send_message(name, {key: value,\n",
       "                             guiEvent: simpleKeys(event)});\n",
       "    return false;\n",
       "}\n",
       "\n",
       "mpl.figure.prototype.toolbar_button_onclick = function(name) {\n",
       "    if (name == 'download') {\n",
       "        this.handle_save(this, null);\n",
       "    } else {\n",
       "        this.send_message(\"toolbar_button\", {name: name});\n",
       "    }\n",
       "};\n",
       "\n",
       "mpl.figure.prototype.toolbar_button_onmouseover = function(tooltip) {\n",
       "    this.message.textContent = tooltip;\n",
       "};\n",
       "mpl.toolbar_items = [[\"Home\", \"Reset original view\", \"fa fa-home icon-home\", \"home\"], [\"Back\", \"Back to  previous view\", \"fa fa-arrow-left icon-arrow-left\", \"back\"], [\"Forward\", \"Forward to next view\", \"fa fa-arrow-right icon-arrow-right\", \"forward\"], [\"\", \"\", \"\", \"\"], [\"Pan\", \"Pan axes with left mouse, zoom with right\", \"fa fa-arrows icon-move\", \"pan\"], [\"Zoom\", \"Zoom to rectangle\", \"fa fa-square-o icon-check-empty\", \"zoom\"], [\"\", \"\", \"\", \"\"], [\"Download\", \"Download plot\", \"fa fa-floppy-o icon-save\", \"download\"]];\n",
       "\n",
       "mpl.extensions = [\"eps\", \"jpeg\", \"pdf\", \"png\", \"ps\", \"raw\", \"svg\", \"tif\"];\n",
       "\n",
       "mpl.default_extension = \"png\";var comm_websocket_adapter = function(comm) {\n",
       "    // Create a \"websocket\"-like object which calls the given IPython comm\n",
       "    // object with the appropriate methods. Currently this is a non binary\n",
       "    // socket, so there is still some room for performance tuning.\n",
       "    var ws = {};\n",
       "\n",
       "    ws.close = function() {\n",
       "        comm.close()\n",
       "    };\n",
       "    ws.send = function(m) {\n",
       "        //console.log('sending', m);\n",
       "        comm.send(m);\n",
       "    };\n",
       "    // Register the callback with on_msg.\n",
       "    comm.on_msg(function(msg) {\n",
       "        //console.log('receiving', msg['content']['data'], msg);\n",
       "        // Pass the mpl event to the overriden (by mpl) onmessage function.\n",
       "        ws.onmessage(msg['content']['data'])\n",
       "    });\n",
       "    return ws;\n",
       "}\n",
       "\n",
       "mpl.mpl_figure_comm = function(comm, msg) {\n",
       "    // This is the function which gets called when the mpl process\n",
       "    // starts-up an IPython Comm through the \"matplotlib\" channel.\n",
       "\n",
       "    var id = msg.content.data.id;\n",
       "    // Get hold of the div created by the display call when the Comm\n",
       "    // socket was opened in Python.\n",
       "    var element = $(\"#\" + id);\n",
       "    var ws_proxy = comm_websocket_adapter(comm)\n",
       "\n",
       "    function ondownload(figure, format) {\n",
       "        window.open(figure.imageObj.src);\n",
       "    }\n",
       "\n",
       "    var fig = new mpl.figure(id, ws_proxy,\n",
       "                           ondownload,\n",
       "                           element.get(0));\n",
       "\n",
       "    // Call onopen now - mpl needs it, as it is assuming we've passed it a real\n",
       "    // web socket which is closed, not our websocket->open comm proxy.\n",
       "    ws_proxy.onopen();\n",
       "\n",
       "    fig.parent_element = element.get(0);\n",
       "    fig.cell_info = mpl.find_output_cell(\"<div id='\" + id + \"'></div>\");\n",
       "    if (!fig.cell_info) {\n",
       "        console.error(\"Failed to find cell for figure\", id, fig);\n",
       "        return;\n",
       "    }\n",
       "\n",
       "    var output_index = fig.cell_info[2]\n",
       "    var cell = fig.cell_info[0];\n",
       "\n",
       "};\n",
       "\n",
       "mpl.figure.prototype.handle_close = function(fig, msg) {\n",
       "    var width = fig.canvas.width/mpl.ratio\n",
       "    fig.root.unbind('remove')\n",
       "\n",
       "    // Update the output cell to use the data from the current canvas.\n",
       "    fig.push_to_output();\n",
       "    var dataURL = fig.canvas.toDataURL();\n",
       "    // Re-enable the keyboard manager in IPython - without this line, in FF,\n",
       "    // the notebook keyboard shortcuts fail.\n",
       "    IPython.keyboard_manager.enable()\n",
       "    $(fig.parent_element).html('<img src=\"' + dataURL + '\" width=\"' + width + '\">');\n",
       "    fig.close_ws(fig, msg);\n",
       "}\n",
       "\n",
       "mpl.figure.prototype.close_ws = function(fig, msg){\n",
       "    fig.send_message('closing', msg);\n",
       "    // fig.ws.close()\n",
       "}\n",
       "\n",
       "mpl.figure.prototype.push_to_output = function(remove_interactive) {\n",
       "    // Turn the data on the canvas into data in the output cell.\n",
       "    var width = this.canvas.width/mpl.ratio\n",
       "    var dataURL = this.canvas.toDataURL();\n",
       "    this.cell_info[1]['text/html'] = '<img src=\"' + dataURL + '\" width=\"' + width + '\">';\n",
       "}\n",
       "\n",
       "mpl.figure.prototype.updated_canvas_event = function() {\n",
       "    // Tell IPython that the notebook contents must change.\n",
       "    IPython.notebook.set_dirty(true);\n",
       "    this.send_message(\"ack\", {});\n",
       "    var fig = this;\n",
       "    // Wait a second, then push the new image to the DOM so\n",
       "    // that it is saved nicely (might be nice to debounce this).\n",
       "    setTimeout(function () { fig.push_to_output() }, 1000);\n",
       "}\n",
       "\n",
       "mpl.figure.prototype._init_toolbar = function() {\n",
       "    var fig = this;\n",
       "\n",
       "    var nav_element = $('<div/>')\n",
       "    nav_element.attr('style', 'width: 100%');\n",
       "    this.root.append(nav_element);\n",
       "\n",
       "    // Define a callback function for later on.\n",
       "    function toolbar_event(event) {\n",
       "        return fig.toolbar_button_onclick(event['data']);\n",
       "    }\n",
       "    function toolbar_mouse_event(event) {\n",
       "        return fig.toolbar_button_onmouseover(event['data']);\n",
       "    }\n",
       "\n",
       "    for(var toolbar_ind in mpl.toolbar_items){\n",
       "        var name = mpl.toolbar_items[toolbar_ind][0];\n",
       "        var tooltip = mpl.toolbar_items[toolbar_ind][1];\n",
       "        var image = mpl.toolbar_items[toolbar_ind][2];\n",
       "        var method_name = mpl.toolbar_items[toolbar_ind][3];\n",
       "\n",
       "        if (!name) { continue; };\n",
       "\n",
       "        var button = $('<button class=\"btn btn-default\" href=\"#\" title=\"' + name + '\"><i class=\"fa ' + image + ' fa-lg\"></i></button>');\n",
       "        button.click(method_name, toolbar_event);\n",
       "        button.mouseover(tooltip, toolbar_mouse_event);\n",
       "        nav_element.append(button);\n",
       "    }\n",
       "\n",
       "    // Add the status bar.\n",
       "    var status_bar = $('<span class=\"mpl-message\" style=\"text-align:right; float: right;\"/>');\n",
       "    nav_element.append(status_bar);\n",
       "    this.message = status_bar[0];\n",
       "\n",
       "    // Add the close button to the window.\n",
       "    var buttongrp = $('<div class=\"btn-group inline pull-right\"></div>');\n",
       "    var button = $('<button class=\"btn btn-mini btn-primary\" href=\"#\" title=\"Stop Interaction\"><i class=\"fa fa-power-off icon-remove icon-large\"></i></button>');\n",
       "    button.click(function (evt) { fig.handle_close(fig, {}); } );\n",
       "    button.mouseover('Stop Interaction', toolbar_mouse_event);\n",
       "    buttongrp.append(button);\n",
       "    var titlebar = this.root.find($('.ui-dialog-titlebar'));\n",
       "    titlebar.prepend(buttongrp);\n",
       "}\n",
       "\n",
       "mpl.figure.prototype._root_extra_style = function(el){\n",
       "    var fig = this\n",
       "    el.on(\"remove\", function(){\n",
       "\tfig.close_ws(fig, {});\n",
       "    });\n",
       "}\n",
       "\n",
       "mpl.figure.prototype._canvas_extra_style = function(el){\n",
       "    // this is important to make the div 'focusable\n",
       "    el.attr('tabindex', 0)\n",
       "    // reach out to IPython and tell the keyboard manager to turn it's self\n",
       "    // off when our div gets focus\n",
       "\n",
       "    // location in version 3\n",
       "    if (IPython.notebook.keyboard_manager) {\n",
       "        IPython.notebook.keyboard_manager.register_events(el);\n",
       "    }\n",
       "    else {\n",
       "        // location in version 2\n",
       "        IPython.keyboard_manager.register_events(el);\n",
       "    }\n",
       "\n",
       "}\n",
       "\n",
       "mpl.figure.prototype._key_event_extra = function(event, name) {\n",
       "    var manager = IPython.notebook.keyboard_manager;\n",
       "    if (!manager)\n",
       "        manager = IPython.keyboard_manager;\n",
       "\n",
       "    // Check for shift+enter\n",
       "    if (event.shiftKey && event.which == 13) {\n",
       "        this.canvas_div.blur();\n",
       "        // select the cell after this one\n",
       "        var index = IPython.notebook.find_cell_index(this.cell_info[0]);\n",
       "        IPython.notebook.select(index + 1);\n",
       "    }\n",
       "}\n",
       "\n",
       "mpl.figure.prototype.handle_save = function(fig, msg) {\n",
       "    fig.ondownload(fig, null);\n",
       "}\n",
       "\n",
       "\n",
       "mpl.find_output_cell = function(html_output) {\n",
       "    // Return the cell and output element which can be found *uniquely* in the notebook.\n",
       "    // Note - this is a bit hacky, but it is done because the \"notebook_saving.Notebook\"\n",
       "    // IPython event is triggered only after the cells have been serialised, which for\n",
       "    // our purposes (turning an active figure into a static one), is too late.\n",
       "    var cells = IPython.notebook.get_cells();\n",
       "    var ncells = cells.length;\n",
       "    for (var i=0; i<ncells; i++) {\n",
       "        var cell = cells[i];\n",
       "        if (cell.cell_type === 'code'){\n",
       "            for (var j=0; j<cell.output_area.outputs.length; j++) {\n",
       "                var data = cell.output_area.outputs[j];\n",
       "                if (data.data) {\n",
       "                    // IPython >= 3 moved mimebundle to data attribute of output\n",
       "                    data = data.data;\n",
       "                }\n",
       "                if (data['text/html'] == html_output) {\n",
       "                    return [cell, data, j];\n",
       "                }\n",
       "            }\n",
       "        }\n",
       "    }\n",
       "}\n",
       "\n",
       "// Register the function which deals with the matplotlib target/channel.\n",
       "// The kernel may be null if the page has been refreshed.\n",
       "if (IPython.notebook.kernel != null) {\n",
       "    IPython.notebook.kernel.comm_manager.register_target('matplotlib', mpl.mpl_figure_comm);\n",
       "}\n"
      ],
      "text/plain": [
       "<IPython.core.display.Javascript object>"
      ]
     },
     "metadata": {},
     "output_type": "display_data"
    },
    {
     "data": {
      "text/html": [
       "<img src=\"data:image/png;base64,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\" width=\"1399.4444815170627\">"
      ],
      "text/plain": [
       "<IPython.core.display.HTML object>"
      ]
     },
     "metadata": {},
     "output_type": "display_data"
    }
   ],
   "source": [
    "vin = torch.load(get_model_path(world), map_location='cpu')\n",
    "\n",
    "labels, s1, s2, obs = get_random_data(test_ds, device)\n",
    "\n",
    "_, v, r_img = vin((s1, s2, obs), k=30)\n",
    "\n",
    "fig = make_world_r_v_image(obs, v)\n"
   ]
  },
  {
   "cell_type": "markdown",
   "metadata": {
    "slideshow": {
     "slide_type": "slide"
    }
   },
   "source": [
    "<center><img src='https://raw.githubusercontent.com/FrancescoSaverioZuppichini/Value-Iteration-Network/master/core/gridworld_28x28/figures.png'></img></center>\n",
    "\n",
    "<center>\n",
    "\n",
    "<center><img src='https://raw.githubusercontent.com/FrancescoSaverioZuppichini/Value-Iteration-Network/master/core/gridworld_28x28/animation.gif'></img></center>\n"
   ]
  },
  {
   "cell_type": "markdown",
   "metadata": {
    "slideshow": {
     "slide_type": "-"
    }
   },
   "source": [
    "https://github.com/FrancescoSaverioZuppichini/Value-Iteration-Network"
   ]
  },
  {
   "cell_type": "code",
   "execution_count": 66,
   "metadata": {},
   "outputs": [
    {
     "name": "stdout",
     "output_type": "stream",
     "text": [
      "Thank you\n"
     ]
    }
   ],
   "source": [
    "print('Thank you')"
   ]
  }
 ],
 "metadata": {
  "celltoolbar": "Slideshow",
  "kernelspec": {
   "display_name": "Python 3",
   "language": "python",
   "name": "python3"
  },
  "language_info": {
   "codemirror_mode": {
    "name": "ipython",
    "version": 3
   },
   "file_extension": ".py",
   "mimetype": "text/x-python",
   "name": "python",
   "nbconvert_exporter": "python",
   "pygments_lexer": "ipython3",
   "version": "3.6.5"
  },
  "rise": {
   "enable_chalkboard": true
  }
 },
 "nbformat": 4,
 "nbformat_minor": 2
}
